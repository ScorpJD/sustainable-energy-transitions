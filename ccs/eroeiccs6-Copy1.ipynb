{
 "cells": [
  {
   "cell_type": "code",
   "execution_count": 1,
   "metadata": {
    "collapsed": true
   },
   "outputs": [],
   "source": [
    "import pandas as pd, matplotlib.pyplot as plt, numpy as np\n",
    "from matplotlib.colors import BoundaryNorm\n",
    "from matplotlib.ticker import MaxNLocator\n",
    "import matplotlib.patches as patches\n",
    "import matplotlib.lines as lines\n",
    "%matplotlib inline"
   ]
  },
  {
   "cell_type": "markdown",
   "metadata": {},
   "source": [
    "Fossil fuels"
   ]
  },
  {
   "cell_type": "markdown",
   "metadata": {},
   "source": [
    "Using the formula in Eq.4 and the plant values from the Excel (Table 2) calculate the EROEI_el for all CFs between 50 and 90. Then create a conversion factor."
   ]
  },
  {
   "cell_type": "code",
   "execution_count": 2,
   "metadata": {
    "collapsed": true
   },
   "outputs": [],
   "source": [
    "CFs=[50,55,60,65,70,75,80,85,90]\n",
    "EROEI_els=[[8.8,9.2,8.8,10.7,11,26],\n",
    "[9.2,9.6,9.2,11.2,11.5,27],\n",
    "[9.6,10.1,9.7,11.6,12,27.8],\n",
    "[10,10.5,10.1,12,12.4,28.6],\n",
    "[10.3,10.8,10.5,12.4,12.8,29.3],\n",
    "[10.7,11.1,10.8,12.7,13.2,29.9],\n",
    "[11,11.5,11.2,13,13.5,30.5],\n",
    "[11.2,11.7,11.5,13.3,13.8,31],\n",
    "[11.5,12,11.8,13.5,14.1,31.5]]"
   ]
  },
  {
   "cell_type": "code",
   "execution_count": 3,
   "metadata": {
    "collapsed": true
   },
   "outputs": [],
   "source": [
    "df=pd.DataFrame(EROEI_els).T\n",
    "df.columns=CFs\n",
    "df.index.name='Plant #'\n",
    "df.columns.name='CF'"
   ]
  },
  {
   "cell_type": "code",
   "execution_count": 4,
   "metadata": {},
   "outputs": [
    {
     "data": {
      "text/html": [
       "<div>\n",
       "<style>\n",
       "    .dataframe thead tr:only-child th {\n",
       "        text-align: right;\n",
       "    }\n",
       "\n",
       "    .dataframe thead th {\n",
       "        text-align: left;\n",
       "    }\n",
       "\n",
       "    .dataframe tbody tr th {\n",
       "        vertical-align: top;\n",
       "    }\n",
       "</style>\n",
       "<table border=\"1\" class=\"dataframe\">\n",
       "  <thead>\n",
       "    <tr style=\"text-align: right;\">\n",
       "      <th>CF</th>\n",
       "      <th>50</th>\n",
       "      <th>55</th>\n",
       "      <th>60</th>\n",
       "      <th>65</th>\n",
       "      <th>70</th>\n",
       "      <th>75</th>\n",
       "      <th>80</th>\n",
       "      <th>85</th>\n",
       "      <th>90</th>\n",
       "    </tr>\n",
       "    <tr>\n",
       "      <th>Plant #</th>\n",
       "      <th></th>\n",
       "      <th></th>\n",
       "      <th></th>\n",
       "      <th></th>\n",
       "      <th></th>\n",
       "      <th></th>\n",
       "      <th></th>\n",
       "      <th></th>\n",
       "      <th></th>\n",
       "    </tr>\n",
       "  </thead>\n",
       "  <tbody>\n",
       "    <tr>\n",
       "      <th>0</th>\n",
       "      <td>8.8</td>\n",
       "      <td>9.2</td>\n",
       "      <td>9.6</td>\n",
       "      <td>10.0</td>\n",
       "      <td>10.3</td>\n",
       "      <td>10.7</td>\n",
       "      <td>11.0</td>\n",
       "      <td>11.2</td>\n",
       "      <td>11.5</td>\n",
       "    </tr>\n",
       "    <tr>\n",
       "      <th>1</th>\n",
       "      <td>9.2</td>\n",
       "      <td>9.6</td>\n",
       "      <td>10.1</td>\n",
       "      <td>10.5</td>\n",
       "      <td>10.8</td>\n",
       "      <td>11.1</td>\n",
       "      <td>11.5</td>\n",
       "      <td>11.7</td>\n",
       "      <td>12.0</td>\n",
       "    </tr>\n",
       "    <tr>\n",
       "      <th>2</th>\n",
       "      <td>8.8</td>\n",
       "      <td>9.2</td>\n",
       "      <td>9.7</td>\n",
       "      <td>10.1</td>\n",
       "      <td>10.5</td>\n",
       "      <td>10.8</td>\n",
       "      <td>11.2</td>\n",
       "      <td>11.5</td>\n",
       "      <td>11.8</td>\n",
       "    </tr>\n",
       "    <tr>\n",
       "      <th>3</th>\n",
       "      <td>10.7</td>\n",
       "      <td>11.2</td>\n",
       "      <td>11.6</td>\n",
       "      <td>12.0</td>\n",
       "      <td>12.4</td>\n",
       "      <td>12.7</td>\n",
       "      <td>13.0</td>\n",
       "      <td>13.3</td>\n",
       "      <td>13.5</td>\n",
       "    </tr>\n",
       "    <tr>\n",
       "      <th>4</th>\n",
       "      <td>11.0</td>\n",
       "      <td>11.5</td>\n",
       "      <td>12.0</td>\n",
       "      <td>12.4</td>\n",
       "      <td>12.8</td>\n",
       "      <td>13.2</td>\n",
       "      <td>13.5</td>\n",
       "      <td>13.8</td>\n",
       "      <td>14.1</td>\n",
       "    </tr>\n",
       "    <tr>\n",
       "      <th>5</th>\n",
       "      <td>26.0</td>\n",
       "      <td>27.0</td>\n",
       "      <td>27.8</td>\n",
       "      <td>28.6</td>\n",
       "      <td>29.3</td>\n",
       "      <td>29.9</td>\n",
       "      <td>30.5</td>\n",
       "      <td>31.0</td>\n",
       "      <td>31.5</td>\n",
       "    </tr>\n",
       "  </tbody>\n",
       "</table>\n",
       "</div>"
      ],
      "text/plain": [
       "CF         50    55    60    65    70    75    80    85    90\n",
       "Plant #                                                      \n",
       "0         8.8   9.2   9.6  10.0  10.3  10.7  11.0  11.2  11.5\n",
       "1         9.2   9.6  10.1  10.5  10.8  11.1  11.5  11.7  12.0\n",
       "2         8.8   9.2   9.7  10.1  10.5  10.8  11.2  11.5  11.8\n",
       "3        10.7  11.2  11.6  12.0  12.4  12.7  13.0  13.3  13.5\n",
       "4        11.0  11.5  12.0  12.4  12.8  13.2  13.5  13.8  14.1\n",
       "5        26.0  27.0  27.8  28.6  29.3  29.9  30.5  31.0  31.5"
      ]
     },
     "execution_count": 4,
     "metadata": {},
     "output_type": "execute_result"
    }
   ],
   "source": [
    "df"
   ]
  },
  {
   "cell_type": "markdown",
   "metadata": {},
   "source": [
    "Capacity factor conversion ratio"
   ]
  },
  {
   "cell_type": "code",
   "execution_count": 5,
   "metadata": {},
   "outputs": [
    {
     "data": {
      "text/plain": [
       "Plant #\n",
       "0    0.726010\n",
       "1    0.724638\n",
       "2    0.744949\n",
       "3    0.700935\n",
       "4    0.712121\n",
       "5    0.673077\n",
       "dtype: float64"
      ]
     },
     "execution_count": 5,
     "metadata": {},
     "output_type": "execute_result"
    }
   ],
   "source": [
    "(df[90]/df[50])/(90/50.0)"
   ]
  },
  {
   "cell_type": "markdown",
   "metadata": {},
   "source": [
    "When we step up from CF 50 to 90, EROEI_el only gets to 70% of what it should be using pure capacity factor conversion (90/50=1.8 multiplier). This is of course still dependent on the source EROEI, but let us use 0.7 for now, judgin on the examined EROEI ranges and the resultant conversion ratio values from the table above."
   ]
  },
  {
   "cell_type": "code",
   "execution_count": 6,
   "metadata": {
    "collapsed": true
   },
   "outputs": [],
   "source": [
    "CF=[50,90]\n",
    "CF_ratio=[1,0.7]"
   ]
  },
  {
   "cell_type": "markdown",
   "metadata": {},
   "source": [
    "We need to create a similar ratio for the Capture ratio CR. We use the Energy penalty figure from the Data from GOTO Excel file, sheet title Efficiency v.s capture rate."
   ]
  },
  {
   "cell_type": "markdown",
   "metadata": {},
   "source": [
    "|CR | energy penalty  |\n",
    "|--|--|\n",
    "|50| 16  |\n",
    "|90| 28|"
   ]
  },
  {
   "cell_type": "code",
   "execution_count": 7,
   "metadata": {
    "collapsed": true
   },
   "outputs": [],
   "source": [
    "CR=[90,50]\n",
    "CR_ratio=[1, 16.0/28]"
   ]
  },
  {
   "cell_type": "code",
   "execution_count": 8,
   "metadata": {},
   "outputs": [
    {
     "data": {
      "text/plain": [
       "[1, 0.5714285714285714]"
      ]
     },
     "execution_count": 8,
     "metadata": {},
     "output_type": "execute_result"
    }
   ],
   "source": [
    "CR_ratio"
   ]
  },
  {
   "cell_type": "code",
   "execution_count": 9,
   "metadata": {
    "scrolled": false
   },
   "outputs": [
    {
     "ename": "NameError",
     "evalue": "name 'n' is not defined",
     "output_type": "error",
     "traceback": [
      "\u001b[1;31m---------------------------------------------------------------------------\u001b[0m",
      "\u001b[1;31mNameError\u001b[0m                                 Traceback (most recent call last)",
      "\u001b[1;32m<ipython-input-9-e18c8597c60e>\u001b[0m in \u001b[0;36m<module>\u001b[1;34m()\u001b[0m\n\u001b[0;32m     28\u001b[0m                             \u001b[0mn\u001b[0m\u001b[1;33m=\u001b[0m\u001b[1;36m2\u001b[0m\u001b[1;33m\u001b[0m\u001b[0m\n\u001b[0;32m     29\u001b[0m                             \u001b[0mp\u001b[0m\u001b[1;33m=\u001b[0m\u001b[1;36m3\u001b[0m\u001b[1;33m\u001b[0m\u001b[0m\n\u001b[1;32m---> 30\u001b[1;33m                         \u001b[1;32mif\u001b[0m \u001b[1;33m(\u001b[0m\u001b[1;33m(\u001b[0m\u001b[0mabs\u001b[0m\u001b[1;33m(\u001b[0m\u001b[0mfop\u001b[0m\u001b[1;33m[\u001b[0m\u001b[0mk\u001b[0m\u001b[1;33m]\u001b[0m\u001b[1;33m-\u001b[0m\u001b[0mt0s\u001b[0m\u001b[1;33m[\u001b[0m\u001b[0mn\u001b[0m\u001b[1;33m]\u001b[0m\u001b[1;33m[\u001b[0m\u001b[1;36m0\u001b[0m\u001b[1;33m]\u001b[0m\u001b[1;33m)\u001b[0m\u001b[1;33m<\u001b[0m\u001b[1;36m0.5\u001b[0m\u001b[1;33m)\u001b[0m\u001b[1;32mand\u001b[0m\u001b[1;33m(\u001b[0m\u001b[0mabs\u001b[0m\u001b[1;33m(\u001b[0m\u001b[0mfcap\u001b[0m\u001b[1;33m[\u001b[0m\u001b[0ml\u001b[0m\u001b[1;33m]\u001b[0m\u001b[1;33m-\u001b[0m\u001b[0mt0s\u001b[0m\u001b[1;33m[\u001b[0m\u001b[0mn\u001b[0m\u001b[1;33m]\u001b[0m\u001b[1;33m[\u001b[0m\u001b[1;36m2\u001b[0m\u001b[1;33m]\u001b[0m\u001b[1;33m)\u001b[0m\u001b[1;33m<\u001b[0m\u001b[1;36m1.5\u001b[0m\u001b[1;33m)\u001b[0m\u001b[1;33m)\u001b[0m\u001b[1;33m:\u001b[0m\u001b[1;33m\u001b[0m\u001b[0m\n\u001b[0m\u001b[0;32m     31\u001b[0m                             \u001b[0mminmax\u001b[0m\u001b[1;33m[\u001b[0m\u001b[0mp\u001b[0m\u001b[1;33m]\u001b[0m\u001b[1;33m[\u001b[0m\u001b[1;34m'max'\u001b[0m\u001b[1;33m]\u001b[0m\u001b[1;33m=\u001b[0m\u001b[0meroei_ccs\u001b[0m\u001b[1;33m[\u001b[0m\u001b[0mi\u001b[0m\u001b[1;33m]\u001b[0m\u001b[1;33m[\u001b[0m\u001b[0mj\u001b[0m\u001b[1;33m]\u001b[0m\u001b[1;33m[\u001b[0m\u001b[0ml\u001b[0m\u001b[1;33m,\u001b[0m\u001b[0mk\u001b[0m\u001b[1;33m]\u001b[0m\u001b[1;33m\u001b[0m\u001b[0m\n\u001b[0;32m     32\u001b[0m                         \u001b[1;32mif\u001b[0m \u001b[1;33m(\u001b[0m\u001b[1;33m(\u001b[0m\u001b[0mabs\u001b[0m\u001b[1;33m(\u001b[0m\u001b[0mfop\u001b[0m\u001b[1;33m[\u001b[0m\u001b[0mk\u001b[0m\u001b[1;33m]\u001b[0m\u001b[1;33m-\u001b[0m\u001b[0mt0s\u001b[0m\u001b[1;33m[\u001b[0m\u001b[0mn\u001b[0m\u001b[1;33m]\u001b[0m\u001b[1;33m[\u001b[0m\u001b[1;36m1\u001b[0m\u001b[1;33m]\u001b[0m\u001b[1;33m)\u001b[0m\u001b[1;33m<\u001b[0m\u001b[1;36m0.5\u001b[0m\u001b[1;33m)\u001b[0m\u001b[1;32mand\u001b[0m\u001b[1;33m(\u001b[0m\u001b[0mabs\u001b[0m\u001b[1;33m(\u001b[0m\u001b[0mfcap\u001b[0m\u001b[1;33m[\u001b[0m\u001b[0ml\u001b[0m\u001b[1;33m]\u001b[0m\u001b[1;33m-\u001b[0m\u001b[0mt0s\u001b[0m\u001b[1;33m[\u001b[0m\u001b[0mn\u001b[0m\u001b[1;33m]\u001b[0m\u001b[1;33m[\u001b[0m\u001b[1;36m3\u001b[0m\u001b[1;33m]\u001b[0m\u001b[1;33m)\u001b[0m\u001b[1;33m<\u001b[0m\u001b[1;36m1.5\u001b[0m\u001b[1;33m)\u001b[0m\u001b[1;33m)\u001b[0m\u001b[1;33m:\u001b[0m\u001b[1;33m\u001b[0m\u001b[0m\n",
      "\u001b[1;31mNameError\u001b[0m: name 'n' is not defined"
     ]
    }
   ],
   "source": [
    "fop=np.linspace(5,40,100)\n",
    "fcap=np.linspace(20,150,100)\n",
    "R=[1,2]\n",
    "titles=[u'$EROEI_{CCS}$ comparison for all technologies','Conventional Canadian Gas','Indiana Tight Gas','Coal','Coal']\n",
    "eroei_els=[15,10,35,15,7]\n",
    "names=['CCGT\\nGas','Pulverized\\nCoal','IGCC\\nCoal']\n",
    "t0s=[[12,20,80,140],[25,36,75,100],[15,30,30,50]]                \n",
    "minmax=[{'min':0,'max':0} for i in range(4)]\n",
    "for r in range(len(titles)):\n",
    "    eroei_el=eroei_els[r]\n",
    "    eroei_ccs=np.zeros([len(CR),len(CF),len(fop),len(fcap)])\n",
    "    for i in range(len(R)):\n",
    "        for j in range(len(CF)):\n",
    "            for k in range(len(fop)):\n",
    "                for l in range(len(fcap)):\n",
    "                    eroei_ccs[i][j][l,k]=(1-fop[k]/100.0)*((R[i]+1)/(R[i]+1+fcap[l]/100.0))*eroei_el*CF[j]*CF_ratio[j]/100.0\n",
    "                    if ((i==1)and(j==1)):\n",
    "                        if r==1:\n",
    "                            n=0\n",
    "                            p=0\n",
    "                        elif r==2:\n",
    "                            n=0\n",
    "                            p=1\n",
    "                        elif r==3:\n",
    "                            n=2\n",
    "                            p=2\n",
    "                        elif r==4:\n",
    "                            n=2\n",
    "                            p=3\n",
    "                        if ((abs(fop[k]-t0s[n][0])<0.5)and(abs(fcap[l]-t0s[n][2])<1.5)):\n",
    "                            minmax[p]['max']=eroei_ccs[i][j][l,k]\n",
    "                        if ((abs(fop[k]-t0s[n][1])<0.5)and(abs(fcap[l]-t0s[n][3])<1.5)):\n",
    "                            minmax[p]['min']=eroei_ccs[i][j][l,k]\n",
    "\n",
    "    fig,axes=plt.subplots(2,2,figsize=(11,9))\n",
    "    plt.subplots_adjust(hspace=0.35)\n",
    "    for i in range(len(axes)):\n",
    "        for j in range(len(axes[i])):\n",
    "            ax=axes[i][j]\n",
    "            z = eroei_ccs[i][j]\n",
    "            levels = MaxNLocator(nbins=30).tick_values(eroei_el/6.0, eroei_el/2.0)\n",
    "            cmap = plt.get_cmap('viridis')\n",
    "            X, Y = np.meshgrid(fop, fcap)\n",
    "            im = ax.contourf(X, Y, z, cmap=cmap, levels=levels,extend='both')\n",
    "            fig.colorbar(im, ax=ax)\n",
    "            ax.set_xlim((fop.min(),fop.max()))\n",
    "            ax.set_ylim((fcap.min(),fcap.max()))\n",
    "            \n",
    "            ls=['-','--']\n",
    "            ls0='-'\n",
    "            lw0=0.5\n",
    "            for m in range(len(CR_ratio)):\n",
    "                n=m*0\n",
    "                for ti in range(len(t0s)):\n",
    "                    if ((r==0)or(((r==1)or(r==2))and(ti==0))or(((r==3)or(r==4))and(ti!=0))):\n",
    "                        t0=t0s[ti]\n",
    "                        t=[t0[0]*CR_ratio[m],t0[1]*CR_ratio[m],t0[2]+n,t0[3]+n]\n",
    "                        rect = patches.Rectangle((t[0],t[2]),t[1]-t[0],t[3]-t[2],linewidth=1,edgecolor='k',facecolor='none',ls=ls[m])\n",
    "                        ax.add_patch(rect)\n",
    "                        if ti==2:\n",
    "                            ax.text(t[0]+2+(1-m)*3,t[3]-15,'CR\\n'+str(CR[m]),horizontalalignment='center')\n",
    "                        elif ti==0:\n",
    "                            if ((r==1)or(r==2)):\n",
    "                                ax.text(t[0]+2,t[3]-40,'CR\\n'+str(CR[m]),horizontalalignment='center')\n",
    "                        if m==0: \n",
    "                            ax.text(t[1]-0.5,t[3]-15,names[ti],horizontalalignment='right')\n",
    "                        else:\n",
    "                            line = lines.Line2D((t0[0],t[1]),((t0[2]+t0[3])/2,(t[2]+t[3])/2),color='k',linewidth=lw0,ls=ls0)\n",
    "                            ax.add_line(line)  \n",
    "\n",
    "            ax.set_xlabel('$f_{op}$',fontsize=12)\n",
    "            ax.set_ylabel('$f_{cap}$',fontsize=12)\n",
    "            ax.set_title(u'$EROEI_{CCS}$\\n$CF='+str(CF[j])+', R='+str(R[i])+'$')\n",
    "    plt.suptitle(titles[r]+'\\n'+r'$EROEI_{el}='+str(eroei_el)+'$',fontsize=16,y=1.01)\n",
    "    plt.show()"
   ]
  },
  {
   "cell_type": "markdown",
   "metadata": {},
   "source": [
    "RE"
   ]
  },
  {
   "cell_type": "code",
   "execution_count": 147,
   "metadata": {},
   "outputs": [
    {
     "data": {
      "image/png": "[encoded data removed]",
      "text/plain": [
       "<matplotlib.figure.Figure at 0xc9a1320>"
      ]
     },
     "metadata": {},
     "output_type": "display_data"
    }
   ],
   "source": [
    "eroei_el=np.linspace(5,40,100)\n",
    "phi=np.linspace(.10,.60,100)\n",
    "ESOI=[16,300]\n",
    "eta=0.78\n",
    "eroei_disp=np.zeros([len(ESOI),len(phi),len(eroei_el)])\n",
    "for i in range(len(ESOI)):\n",
    "    for j in range(len(phi)):\n",
    "        for k in range(len(eroei_el)):\n",
    "            eroei_disp[i][k,j]=((1-phi[j])+(eta*phi[j]))/((1/eroei_el[k])+(eta*phi[j]/ESOI[i]))\n",
    "fig,axes=plt.subplots(1,2,figsize=(11,3.8))\n",
    "plt.subplots_adjust(hspace=0.35)\n",
    "#levels = MaxNLocator(nbins=15).tick_values(4000, 15000)\n",
    "for i in range(len(axes)):\n",
    "    ax=axes[i]\n",
    "    z = eroei_disp[i]\n",
    "    levels = MaxNLocator(nbins=30).tick_values(2, 40)\n",
    "    cmap = plt.get_cmap('viridis')\n",
    "    X, Y = np.meshgrid(phi, eroei_el)\n",
    "    im = ax.contourf(X, Y, z, cmap=cmap, levels=levels,extend='both')\n",
    "\n",
    "    fig.colorbar(im, ax=ax)\n",
    "    ax.set_xlim((phi.min(),phi.max()))\n",
    "    ax.set_ylim((eroei_el.min(),eroei_el.max()))\n",
    "\n",
    "    ax.set_xlabel('Storage fraction $\\phi$',fontsize=12)\n",
    "    ax.set_ylabel('$EROEI_{el}$',fontsize=13)\n",
    "    ax.set_title(u'$EROEI_{disp}$\\n$ESOI='+str(ESOI[i])+', \\eta='+str(eta)+'$')\n",
    "plt.show()"
   ]
  },
  {
   "cell_type": "markdown",
   "metadata": {},
   "source": [
    "Overlay"
   ]
  },
  {
   "cell_type": "code",
   "execution_count": 165,
   "metadata": {},
   "outputs": [
    {
     "data": {
      "image/png": "[encoded data removed]",
      "text/plain": [
       "<matplotlib.figure.Figure at 0xfbf6588>"
      ]
     },
     "metadata": {},
     "output_type": "display_data"
    }
   ],
   "source": [
    "eroei_el=np.linspace(5,40,100)\n",
    "phi=np.linspace(.10,.60,100)\n",
    "ESOI=[16,300]\n",
    "eta=0.78\n",
    "eroei_disp=np.zeros([len(ESOI),len(phi),len(eroei_el)])\n",
    "for i in range(len(ESOI)):\n",
    "    for j in range(len(phi)):\n",
    "        for k in range(len(eroei_el)):\n",
    "            eroei_disp[i][k,j]=((1-phi[j])+(eta*phi[j]))/((1/eroei_el[k])+(eta*phi[j]/ESOI[i]))\n",
    "fig,axes=plt.subplots(1,2,figsize=(11,3.8))\n",
    "plt.subplots_adjust(hspace=0.35)\n",
    "#levels = MaxNLocator(nbins=15).tick_values(4000, 15000)\n",
    "for i in range(len(axes)):\n",
    "    ax=axes[i]\n",
    "    z = eroei_disp[i]\n",
    "    levels = MaxNLocator(nbins=30).tick_values(2, 40)\n",
    "    cmap = plt.get_cmap('viridis')\n",
    "    X, Y = np.meshgrid(phi, eroei_el)\n",
    "    im = ax.contourf(X, Y, z, cmap=cmap, levels=levels,extend='both')\n",
    "    fig.colorbar(im, ax=ax)\n",
    "    \n",
    "    r=2\n",
    "    im = ax.contour(X, Y, z, levels=np.linspace(minmax[r]['min'],minmax[r]['max'],2),extend='both',colors='k',linewidths=1.5)\n",
    "    im = ax.contourf(X, Y, z, colors=[[0,0,0,1],[1,1,1,1],[0,0,0,1]], levels=np.linspace(minmax[r]['min'],minmax[r]['max'],2),extend='both',alpha=0.05,)\n",
    "    r=1\n",
    "    im = ax.contour(X, Y, z, levels=np.linspace(minmax[r]['min'],minmax[r]['max'],2),extend='both',colors='k',linewidths=1.5,linestyles='--')\n",
    "    im = ax.contourf(X, Y, z, colors=[[0,0,0,1],[1,1,1,1],[0,0,0,1]], levels=np.linspace(minmax[r]['min'],minmax[r]['max'],2),extend='both',alpha=0.05,)\n",
    "    \n",
    "    ax.set_xlim((phi.min(),phi.max()))\n",
    "    ax.set_ylim((eroei_el.min(),eroei_el.max()))\n",
    "\n",
    "    ax.set_xlabel('Storage fraction $\\phi$',fontsize=12)\n",
    "    ax.set_ylabel('$EROEI_{el}$',fontsize=13)\n",
    "    ax.set_title(u'$EROEI_{disp}$\\n$ESOI='+str(ESOI[i])+', \\eta='+str(eta)+'$')\n",
    "\n",
    "axes[0].annotate('CCGT Indiana Tight Gas\\n$CR=90,CF=90,R=2$', \n",
    "         xy=(0.37, 25),  \n",
    "         xycoords='data',\n",
    "         xytext=(-40, -55),\n",
    "         textcoords='offset points',\n",
    "         arrowprops=dict(arrowstyle=\"->\"))\n",
    "         xy=(0.145, 15),  \n",
    "         xycoords='data',\n",
    "         xytext=(85, -45),\n",
    "         textcoords='offset points',\n",
    "         arrowprops=dict(arrowstyle=\"->\"))\n",
    "axes[0].annotate(' ', \n",
    "         xy=(0.115, 11),  \n",
    "         xycoords='data',\n",
    "         xytext=(95, -5),\n",
    "         textcoords='offset points',\n",
    "         arrowprops=dict(arrowstyle=\"->\"))\n",
    "\n",
    "plt.show()"
   ]
  },
  {
   "cell_type": "markdown",
   "metadata": {},
   "source": [
    "CF plot"
   ]
  },
  {
   "cell_type": "code",
   "execution_count": 13,
   "metadata": {
    "collapsed": true
   },
   "outputs": [],
   "source": [
    "df=pd.read_excel('cfdata.xlsx')"
   ]
  },
  {
   "cell_type": "code",
   "execution_count": 109,
   "metadata": {},
   "outputs": [
    {
     "data": {
      "image/png": "[encoded data removed]",
      "text/plain": [
       "<matplotlib.figure.Figure at 0x12bad940>"
      ]
     },
     "metadata": {},
     "output_type": "display_data"
    }
   ],
   "source": [
    "fig,ax=plt.subplots(1,1,figsize=(6,5))\n",
    "ax.barh(df.index,df['PC 2005'],0.4,color='#d9ef8b',label='Gas 2005')\n",
    "ax.barh(df.index,df['PC 2015'],0.4,color='#d8daeb',label='Gas 2015')\n",
    "ax.barh(df.index-0.4,df['NG 2005'],0.4,color='#91cf60',label='Coal 2005')\n",
    "ax.barh(df.index-0.4,df['NG 2015'],0.4,color='#998ec3',label='Coal 2015')\n",
    "fig.canvas.draw()\n",
    "labels = ['']+[item.get_text().replace(u'\\u2212','') for item in ax.get_xticklabels()[1:-1]]+['']\n",
    "ax.set_xticklabels(labels)\n",
    "ax.set_yticks(df.index)\n",
    "ax.set_yticklabels(df['CF'][::-1])\n",
    "ax.legend(bbox_to_anchor=(0.3, 0.37))\n",
    "ax.set_ylabel('Plant capacity factor')\n",
    "ax.set_xlabel('Number of plants (United States)\\n source: US EIA')\n",
    "ax.set_title('Distribution of annual capacity factors of\\ngas combined-cycle and coal steam plants')\n",
    "plt.show()"
   ]
  }
 ],
 "metadata": {
  "anaconda-cloud": {},
  "kernelspec": {
   "display_name": "Python 2",
   "language": "python",
   "name": "python2"
  },
  "language_info": {
   "codemirror_mode": {
    "name": "ipython",
    "version": 2
   },
   "file_extension": ".py",
   "mimetype": "text/x-python",
   "name": "python",
   "nbconvert_exporter": "python",
   "pygments_lexer": "ipython2",
   "version": "2.7.14"
  }
 },
 "nbformat": 4,
 "nbformat_minor": 2
}
