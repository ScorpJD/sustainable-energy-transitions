{
 "cells": [
  {
   "cell_type": "code",
   "execution_count": 2,
   "metadata": {},
   "outputs": [
    {
     "name": "stdout",
     "output_type": "stream",
     "text": [
      "0.5.0\n"
     ]
    }
   ],
   "source": [
    "import os\n",
    "import folium\n",
    "\n",
    "print(folium.__version__)"
   ]
  },
  {
   "cell_type": "code",
   "execution_count": 5,
   "metadata": {
    "scrolled": false
   },
   "outputs": [
    {
     "data": {
      "text/html": [
       "<div style=\"width:100%;\"><div style=\"position:relative;width:100%;height:0;padding-bottom:60%;\"><iframe src=\"data:text/html;charset=utf-8;base64,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\" style=\"position:absolute;width:100%;height:100%;left:0;top:0;border:none !important;\" allowfullscreen webkitallowfullscreen mozallowfullscreen></iframe></div></div>"
      ],
      "text/plain": [
       "<folium.folium.Map at 0xac2cbe0>"
      ]
     },
     "execution_count": 5,
     "metadata": {},
     "output_type": "execute_result"
    }
   ],
   "source": [
    "from folium.plugins import MarkerCluster\n",
    "\n",
    "\n",
    "m = folium.Map(location=[44, -73], zoom_start=5)\n",
    "\n",
    "marker_cluster = MarkerCluster().add_to(m)\n",
    "\n",
    "\n",
    "folium.Marker(\n",
    "    location=[40.67, -73.94],\n",
    "    popup='Add popup text here.',\n",
    "    icon=folium.Icon(color='green', icon='ok-sign'),\n",
    ").add_to(marker_cluster)\n",
    "\n",
    "folium.Marker(\n",
    "    location=[44.67, -73.94],\n",
    "    popup='Add popup text here.',\n",
    "    icon=folium.Icon(color='red', icon='remove-sign'),\n",
    ").add_to(marker_cluster)\n",
    "\n",
    "folium.Marker(\n",
    "    location=[44.67, -71.94],\n",
    "    popup='Add popup text here.',\n",
    "    icon=None,\n",
    ").add_to(marker_cluster)\n",
    "\n",
    "m.save(os.path.join('results', '1000_MarkerCluster0.html'))\n",
    "\n",
    "m"
   ]
  },
  {
   "cell_type": "code",
   "execution_count": 9,
   "metadata": {},
   "outputs": [],
   "source": [
    "import cesiumpy\n"
   ]
  },
  {
   "cell_type": "code",
   "execution_count": 10,
   "metadata": {},
   "outputs": [
    {
     "data": {
      "text/html": [
       "<script src=\"https://cesiumjs.org/Cesium/Build/Cesium/Cesium.js\"></script>\r\n",
       "<link rel=\"stylesheet\" href=\"https://cesiumjs.org/Cesium/Build/Cesium/Widgets/widgets.css\" type=\"text/css\">\r\n",
       "<div id=\"container-182650360\" style=\"width:100%; height:100%;\"><div>\r\n",
       "<script type=\"text/javascript\">\r\n",
       "  var widget = new Cesium.CesiumWidget(\"container-182650360\");\r\n",
       "</script>"
      ],
      "text/plain": [
       "<cesiumpy.widget.CesiumWidget at 0xae30588>"
      ]
     },
     "execution_count": 10,
     "metadata": {},
     "output_type": "execute_result"
    }
   ],
   "source": [
    "v = cesiumpy.CesiumWidget()\n",
    "v"
   ]
  }
 ],
 "metadata": {
  "kernelspec": {
   "display_name": "Python 2",
   "language": "python",
   "name": "python2"
  },
  "language_info": {
   "codemirror_mode": {
    "name": "ipython",
    "version": 2
   },
   "file_extension": ".py",
   "mimetype": "text/x-python",
   "name": "python",
   "nbconvert_exporter": "python",
   "pygments_lexer": "ipython2",
   "version": "2.7.14"
  }
 },
 "nbformat": 4,
 "nbformat_minor": 2
}
