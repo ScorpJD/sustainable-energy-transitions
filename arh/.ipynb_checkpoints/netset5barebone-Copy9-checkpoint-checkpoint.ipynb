{
 "cells": [
  {
   "cell_type": "markdown",
   "metadata": {},
   "source": [
    "# Sustainable energy transitions data model"
   ]
  },
  {
   "cell_type": "code",
   "execution_count": 1,
   "metadata": {
    "collapsed": false
   },
   "outputs": [],
   "source": [
    "import pandas as pd, numpy as np, json, copy, zipfile, random"
   ]
  },
  {
   "cell_type": "markdown",
   "metadata": {},
   "source": [
    "## Country and region name converters"
   ]
  },
  {
   "cell_type": "code",
   "execution_count": 2,
   "metadata": {
    "collapsed": false
   },
   "outputs": [],
   "source": [
    "#country name converters\n",
    "\n",
    "#EIA->pop\n",
    "clist1={'North America':'Northern America',\n",
    "'United States':'United States of America',\n",
    "'Central & South America':'Latin America and the Caribbean',\n",
    "'Bahamas, The':'Bahamas',\n",
    "'Saint Vincent/Grenadines':'Saint Vincent and the Grenadines',\n",
    "'Venezuela':'Venezuela (Bolivarian Republic of)',\n",
    "'Macedonia':'The former Yugoslav Republic of Macedonia',\n",
    "'Moldova':'Republic of Moldova',\n",
    "'Russia':'Russian Federation',\n",
    "'Iran':'Iran (Islamic Republic of)',\n",
    "'Palestinian Territories':'State of Palestine',\n",
    "'Syria':'Syrian Arab Republic',\n",
    "'Yemen':'Yemen ',\n",
    "'Congo (Brazzaville)':'Congo',\n",
    "'Congo (Kinshasa)':'Democratic Republic of the Congo',\n",
    "'Cote dIvoire (IvoryCoast)':\"C\\xc3\\xb4te d'Ivoire\",\n",
    "'Gambia, The':'Gambia',\n",
    "'Libya':'Libyan Arab Jamahiriya',\n",
    "'Reunion':'R\\xc3\\xa9union',\n",
    "'Somalia':'Somalia ',\n",
    "'Sudan and South Sudan':'Sudan',\n",
    "'Tanzania':'United Republic of Tanzania',\n",
    "'Brunei':'Brunei Darussalam',\n",
    "'Burma (Myanmar)':'Myanmar',\n",
    "'Hong Kong':'China, Hong Kong Special Administrative Region',\n",
    "'Korea, North':\"Democratic People's Republic of Korea\",\n",
    "'Korea, South':'Republic of Korea',\n",
    "'Laos':\"Lao People's Democratic Republic\",\n",
    "'Macau':'China, Macao Special Administrative Region',\n",
    "'Timor-Leste (East Timor)':'Timor-Leste',\n",
    "'Virgin Islands,  U.S.':'United States Virgin Islands',\n",
    "'Vietnam':'Viet Nam'}\n",
    "\n",
    "#BP->pop\n",
    "clist2={u'                 European Union #':u'Europe',\n",
    "u'Rep. of Congo (Brazzaville)':u'Congo (Brazzaville)',\n",
    "'Republic of Ireland':'Ireland',\n",
    "'China Hong Kong SAR':'China, Hong Kong Special Administrative Region',\n",
    "u'Total Africa':u'Africa',\n",
    "u'Total North America':u'Northern America',\n",
    "u'Total S. & Cent. America':'Latin America and the Caribbean',\n",
    "u'Total World':u'World',\n",
    "u'Total World ':u'World',\n",
    "'South Korea':'Republic of Korea',\n",
    "u'Trinidad & Tobago':u'Trinidad and Tobago',\n",
    "u'US':u'United States of America'}\n",
    "\n",
    "#WD->pop\n",
    "clist3={u\"Cote d'Ivoire\":\"C\\xc3\\xb4te d'Ivoire\",\n",
    "u'Congo, Rep.':u'Congo (Brazzaville)',\n",
    "u'Caribbean small states':'Carribean',\n",
    "u'East Asia & Pacific (all income levels)':'Eastern Asia',\n",
    "u'Egypt, Arab Rep.':'Egypt',\n",
    "u'European Union':u'Europe',\n",
    "u'Hong Kong SAR, China':u'China, Hong Kong Special Administrative Region',\n",
    "u'Iran, Islamic Rep.':u'Iran (Islamic Republic of)',\n",
    "u'Kyrgyz Republic':u'Kyrgyzstan',\n",
    "u'Korea, Rep.':u'Republic of Korea',\n",
    "u'Latin America & Caribbean (all income levels)':'Latin America and the Caribbean',\n",
    "u'Macedonia, FYR':u'The former Yugoslav Republic of Macedonia',\n",
    "u'Korea, Dem. Rep.':u\"Democratic People's Republic of Korea\",\n",
    "u'South Asia':u'Southern Asia',\n",
    "u'Sub-Saharan Africa (all income levels)':u'Sub-Saharan Africa',\n",
    "u'Slovak Republic':u'Slovakia',\n",
    "u'Venezuela, RB':u'Venezuela (Bolivarian Republic of)',\n",
    "u'Yemen, Rep.':u'Yemen ',\n",
    "u'Congo, Dem. Rep.':u'Democratic Republic of the Congo'}\n",
    "\n",
    "#COMTRADE->pop\n",
    "clist4={u\"Bosnia Herzegovina\":\"Bosnia and Herzegovina\",\n",
    "u'Central African Rep.':u'Central African Republic',\n",
    "u'China, Hong Kong SAR':u'China, Hong Kong Special Administrative Region',\n",
    "u'China, Macao SAR':u'China, Macao Special Administrative Region',\n",
    "u'Czech Rep.':u'Czech Republic',\n",
    "u\"Dem. People's Rep. of Korea\":\"Democratic People's Republic of Korea\",\n",
    "u'Dem. Rep. of the Congo':\"Democratic Republic of the Congo\",\n",
    "u'Dominican Rep.':u'Dominican Republic',\n",
    "u'Fmr Arab Rep. of Yemen':u'Yemen ',\n",
    "u'Fmr Ethiopia':u'Ethiopia',\n",
    "u'Fmr Fed. Rep. of Germany':u'Germany',\n",
    "u'Fmr Panama, excl.Canal Zone':u'Panama',\n",
    "u'Fmr Rep. of Vietnam':u'Viet Nam',\n",
    "u\"Lao People's Dem. Rep.\":u\"Lao People's Democratic Republic\",\n",
    "u'Occ. Palestinian Terr.':u'State of Palestine',\n",
    "u'Rep. of Korea':u'Republic of Korea',\n",
    "u'Rep. of Moldova':u'Republic of Moldova',\n",
    "u'Serbia and Montenegro':u'Serbia',\n",
    "u'US Virgin Isds':u'United States Virgin Islands',\n",
    "u'Solomon Isds':u'Solomon Islands',\n",
    "u'United Rep. of Tanzania':u'United Republic of Tanzania',\n",
    "u'TFYR of Macedonia':u'The former Yugoslav Republic of Macedonia',\n",
    "u'USA':u'United States of America',\n",
    "u'USA (before 1981)':u'United States of America',\n",
    "}\n",
    "\n",
    "#Jacobson->pop\n",
    "clist5={u\"Korea, Democratic People's Republic of\":\"Democratic People's Republic of Korea\",\n",
    "u'All countries':u'World',\n",
    "u\"Cote d'Ivoire\":\"C\\xc3\\xb4te d'Ivoire\",\n",
    "u'Iran, Islamic Republic of':u'Iran (Islamic Republic of)',\n",
    "u'Macedonia, Former Yugoslav Republic of':u'The former Yugoslav Republic of Macedonia',\n",
    "u'Congo, Democratic Republic of':u\"Democratic Republic of the Congo\",\n",
    "u'Korea, Republic of':u'Republic of Korea',\n",
    "u'Tanzania, United Republic of':u'United Republic of Tanzania',\n",
    "u'Moldova, Republic of':u'Republic of Moldova',\n",
    "u'Hong Kong, China':u'China, Hong Kong Special Administrative Region'\n",
    "}\n",
    "\n",
    "#NREL solar->pop\n",
    "clist6={u\"Antigua & Barbuda\":u'Antigua and Barbuda',\n",
    "u\"Bosnia & Herzegovina\":u\"Bosnia and Herzegovina\",\n",
    "u\"Brunei\":u'Brunei Darussalam',\n",
    "u\"Cote d'Ivoire\":\"C\\xc3\\xb4te d'Ivoire\",\n",
    "u\"Iran\":u'Iran (Islamic Republic of)',\n",
    "u\"Laos\":u\"Lao People's Democratic Republic\",\n",
    "u\"Libya\":'Libyan Arab Jamahiriya',\n",
    "u\"Moldova\":u'Republic of Moldova',\n",
    "u\"North Korea\":\"Democratic People's Republic of Korea\",\n",
    "u\"Reunion\":'R\\xc3\\xa9union',\n",
    "u'Sao Tome & Principe':u'Sao Tome and Principe',\n",
    "u'Solomon Is.':u'Solomon Islands',\n",
    "u'St. Lucia':u'Saint Lucia',\n",
    "u'St. Vincent & the Grenadines':u'Saint Vincent and the Grenadines',\n",
    "u'The Bahamas':u'Bahamas',\n",
    "u'The Gambia':u'Gambia',\n",
    "u'Virgin Is.':u'United States Virgin Islands',\n",
    "u'West Bank':u'State of Palestine'\n",
    "}\n",
    "\n",
    "#NREL wind->pop\n",
    "clist7={u\"Antigua & Barbuda\":u'Antigua and Barbuda',\n",
    "u\"Bosnia & Herzegovina\":u\"Bosnia and Herzegovina\",\n",
    "u'Occupied Palestinian Territory':u'State of Palestine',\n",
    "u'China Macao SAR':u'China, Macao Special Administrative Region',\n",
    "#\"C\\xc3\\xb4te d'Ivoire\":\"C\\xc3\\xb4te d'Ivoire\",\n",
    "u'East Timor':u'Timor-Leste',\n",
    "u'TFYR Macedonia':u'The former Yugoslav Republic of Macedonia',\n",
    "u'IAM-country Total':u'World'\n",
    "}\n",
    "\n",
    "#country entroids->pop\n",
    "clist8={u'Burma':'Myanmar',\n",
    "u\"Cote d'Ivoire\":\"C\\xc3\\xb4te d'Ivoire\",\n",
    "u'Republic of the Congo':u'Congo (Brazzaville)',\n",
    "u'Reunion':'R\\xc3\\xa9union'\n",
    "}\n",
    "\n",
    "def cnc(country):\n",
    "    if country in clist1: return clist1[country]\n",
    "    elif country in clist2: return clist2[country]\n",
    "    elif country in clist3: return clist3[country]\n",
    "    elif country in clist4: return clist4[country]\n",
    "    elif country in clist5: return clist5[country]\n",
    "    elif country in clist6: return clist6[country]\n",
    "    elif country in clist7: return clist7[country]\n",
    "    elif country in clist8: return clist8[country]\n",
    "    else: return country"
   ]
  },
  {
   "cell_type": "markdown",
   "metadata": {},
   "source": [
    "# Population"
   ]
  },
  {
   "cell_type": "markdown",
   "metadata": {},
   "source": [
    "Consult the notebook entitled *pop.ipynb* for the details of mining the data from the UN statistics division online database.   \n",
    "Due to being the reference database for country names cell, the cell below needs to be run first, before any other databases."
   ]
  },
  {
   "cell_type": "code",
   "execution_count": 3,
   "metadata": {
    "collapsed": false
   },
   "outputs": [],
   "source": [
    "#pop_path='https://dl.dropboxusercontent.com/u/531697/datarepo/Set/db/\n",
    "pop_path='E:/Dropbox/Public/datarepo/Set/db/'"
   ]
  },
  {
   "cell_type": "code",
   "execution_count": 4,
   "metadata": {
    "collapsed": true
   },
   "outputs": [],
   "source": [
    "#suppres warnings\n",
    "import warnings\n",
    "warnings.simplefilter(action = \"ignore\")"
   ]
  },
  {
   "cell_type": "code",
   "execution_count": 5,
   "metadata": {
    "collapsed": false
   },
   "outputs": [],
   "source": [
    "cc=pd.read_excel(pop_path+'Country Code and Name ISO2 ISO3.xls')\n",
    "#http://unstats.un.org/unsd/tradekb/Attachment321.aspx?AttachmentType=1"
   ]
  },
  {
   "cell_type": "code",
   "execution_count": 6,
   "metadata": {
    "collapsed": false
   },
   "outputs": [],
   "source": [
    "ccs=cc['Country Code'].values"
   ]
  },
  {
   "cell_type": "markdown",
   "metadata": {
    "collapsed": true
   },
   "source": [
    "## Country neighbor list"
   ]
  },
  {
   "cell_type": "code",
   "execution_count": 7,
   "metadata": {
    "collapsed": false
   },
   "outputs": [],
   "source": [
    "neighbors=pd.read_csv(pop_path+'contry-geotime.csv')\n",
    "#https://raw.githubusercontent.com/ppKrauss/country-geotime/master/data/contry-geotime.csv"
   ]
  },
  {
   "cell_type": "code",
   "execution_count": 8,
   "metadata": {
    "collapsed": false
   },
   "outputs": [],
   "source": [
    "#country name converter from iso to comtrade and back\n",
    "iso2c={}\n",
    "isoc2={}\n",
    "for i in cc.T.iteritems():\n",
    "    iso2c[i[1][0]]=i[1][1]\n",
    "    isoc2[i[1][1]]=i[1][0]"
   ]
  },
  {
   "cell_type": "code",
   "execution_count": 9,
   "metadata": {
    "collapsed": false
   },
   "outputs": [],
   "source": [
    "#country name converter from pop to iso\n",
    "pop2iso={}\n",
    "for i in cc.T.iteritems():\n",
    "    pop2iso[cnc(i[1][1])]=int(i[1][0])"
   ]
  },
  {
   "cell_type": "code",
   "execution_count": 10,
   "metadata": {
    "collapsed": false
   },
   "outputs": [],
   "source": [
    "#country name converter from alpha 2 to iso\n",
    "c2iso={}\n",
    "for i in neighbors.T.iteritems():\n",
    "    c2iso[str(i[1][0])]=i[1][1]\n",
    "c2iso['NA']=c2iso['nan'] #adjust for namibia\n",
    "c2iso.pop('nan');"
   ]
  },
  {
   "cell_type": "code",
   "execution_count": 11,
   "metadata": {
    "collapsed": false
   },
   "outputs": [],
   "source": [
    "#create country neighbor adjacency list based on iso country number codes\n",
    "c2neighbors={}\n",
    "for i in neighbors.T.iteritems():\n",
    "    z=str(i[1][4]).split(' ')\n",
    "    if (str(i[1][1])!='nan'): c2neighbors[int(i[1][1])]=[c2iso[k] for k in z if k!='nan']"
   ]
  },
  {
   "cell_type": "code",
   "execution_count": 12,
   "metadata": {
    "collapsed": false
   },
   "outputs": [],
   "source": [
    "#extend iso codes not yet encountered\n",
    "iso2c[729]=\"Sudan\"\n",
    "iso2c[531]=\"Curacao\"\n",
    "iso2c[535]=\"Bonaire, Sint Eustatius and Saba\"\n",
    "iso2c[728]=\"South Sudan\"\n",
    "iso2c[534]=\"Sint Maarten (Dutch part)\"\n",
    "iso2c[652]=\"Saint Barthélemy\""
   ]
  },
  {
   "cell_type": "code",
   "execution_count": 13,
   "metadata": {
    "collapsed": false
   },
   "outputs": [],
   "source": [
    "def save3(sd):\n",
    "#if True:\n",
    "    try:\n",
    "        import zlib\n",
    "        compression = zipfile.ZIP_DEFLATED\n",
    "    except:\n",
    "        compression = zipfile.ZIP_STORED\n",
    "    popsave={}\n",
    "    countries=[]\n",
    "    isocountries={}\n",
    "    c=sorted(data.keys())\n",
    "    for country in c:\n",
    "        popdummy={}\n",
    "        tosave=[]\n",
    "        for year in data[country]:\n",
    "            popdummy[year]=data[country][year]['population']\n",
    "            for fuel in data[country][year]['energy']:\n",
    "            #for fuel in allfuels:\n",
    "                if fuel not in {'nrg','nrg_sum'}:\n",
    "                    tosave.append({\"t\":year,\"u\":fuel,\"g\":\"f\",\"q1\":\"pp\",\"q2\":999,\n",
    "                               \"s\":round(0 if (('navg3' in data[country][year]['energy'][fuel]['prod']) \\\n",
    "                                          and (np.isnan(data[country][year]['energy'][fuel]['prod']['navg3']))) else \\\n",
    "                               data[country][year]['energy'][fuel]['prod']['navg3'] if \\\n",
    "                                   'navg3' in data[country][year]['energy'][fuel]['prod'] else 0,3)\n",
    "                               })\n",
    "                    tosave.append({\"t\":year,\"u\":fuel,\"g\":\"m\",\"q1\":\"cc\",\"q2\":999,\n",
    "                               \"s\":round(0 if (('navg3' in data[country][year]['energy'][fuel]['cons']) \\\n",
    "                                          and (np.isnan(data[country][year]['energy'][fuel]['cons']['navg3']))) else \\\n",
    "                               data[country][year]['energy'][fuel]['cons']['navg3'] if \\\n",
    "                                   'navg3' in data[country][year]['energy'][fuel]['cons'] else 0,3)\n",
    "                              })\n",
    "            \n",
    "            #save balances - only for dev\n",
    "            #if (year > min(balance.keys())):\n",
    "            #    if year in balance:\n",
    "            #        if country in balance[year]:\n",
    "            #            tosave.append({\"t\":year,\"u\":\"balance\",\"g\":\"m\",\"q1\":\"cc\",\"q2\":999,\n",
    "            #                   \"s\":balance[year][country]})\n",
    "        \n",
    "        #no import export flows on global\n",
    "        if country not in {\"World\"}:\n",
    "            flowg={\"Import\":\"f\",\"Export\":\"m\",\"Re-Export\":\"m\",\"Re-Import\":\"f\"}\n",
    "            if country in tradealpha:\n",
    "                for year in tradealpha[country]:\n",
    "                    for fuel in tradealpha[country][year]:\n",
    "                        for flow in tradealpha[country][year][fuel]:\n",
    "                            for partner in tradealpha[country][year][fuel][flow]:\n",
    "                                if partner not in isocountries:\n",
    "                                    isocountries[partner]=cnc(iso2c[int(float(partner))])\n",
    "                                tosave.append({\"t\":int(float(year)),\"u\":fuel,\"g\":flowg[flow],\"q1\":flow,\"q2\":partner,\n",
    "                                           \"s\":round(tradealpha[country][year][fuel][flow][partner],3)\n",
    "                                           })\n",
    "        \n",
    "        popsave[country]=popdummy\n",
    "        \n",
    "        countries.append(country)\n",
    "        file('E:/Dropbox/Public/datarepo/Set/json/'+str(sd)+'/data.json','w').write(json.dumps(tosave)) \n",
    "        zf = zipfile.ZipFile('E:/Dropbox/Public/datarepo/Set/json/'+str(sd)+'/'+str(country.encode('utf-8').replace('/','&&'))+'.zip', mode='w')\n",
    "        zf.write('E:/Dropbox/Public/datarepo/Set/json/'+str(sd)+'/data.json','data.json',compress_type=compression)\n",
    "        zf.close()\n",
    "        \n",
    "    #save all countries list\n",
    "    file('E:/Dropbox/Public/datarepo/Set/json/'+str(sd)+'/countries.json','w').write(json.dumps(countries)) \n",
    "    \n",
    "    #save countries populations\n",
    "    #file('E:/Dropbox/Public/datarepo/Set/json/pop.json','w').write(json.dumps(popsave))     \n",
    "    \n",
    "    #save all trade countries dictionary\n",
    "    file('E:/Dropbox/Public/datarepo/Set/json/'+str(sd)+'/isocountries.json','w').write(json.dumps(isocountries))     "
   ]
  },
  {
   "cell_type": "code",
   "execution_count": 14,
   "metadata": {
    "collapsed": true
   },
   "outputs": [],
   "source": [
    "#https://www.researchgate.net/publication/299824220_First_Insights_on_the_Role_of_solar_PV_in_a_100_Renewable_Energy_Environment_based_on_hourly_Modeling_for_all_Regions_globally\n",
    "cost=pd.read_excel(pop_path+'/maps/storage.xlsx')"
   ]
  },
  {
   "cell_type": "code",
   "execution_count": 15,
   "metadata": {
    "collapsed": true
   },
   "outputs": [],
   "source": [
    "#load tradealpha d\n",
    "predata=json.loads(file(pop_path+'/trade/traded.json','r').read())\n",
    "tradealpha={}\n",
    "for c in predata:\n",
    "    tradealpha[c]={}\n",
    "    for year in predata[c]:\n",
    "        tradealpha[c][int(year)]=predata[c][year]\n",
    "predata={}"
   ]
  },
  {
   "cell_type": "code",
   "execution_count": 16,
   "metadata": {
    "collapsed": false
   },
   "outputs": [],
   "source": [
    "#existing electricity trade grid (and other fuels)\n",
    "grid={}\n",
    "allgrid={}\n",
    "gridz={}\n",
    "allgridsize={}\n",
    "zgrid={}\n",
    "zzsize={}\n",
    "for fuel in {\"oil\",\"coal\",\"gas\",\"electricity\"}:\n",
    "    if fuel not in grid:grid[fuel]={}\n",
    "    if fuel not in zgrid:zgrid[fuel]={}\n",
    "    if fuel not in zzsize:zzsize[fuel]={}\n",
    "    gridpartners={}\n",
    "    gridsize={}\n",
    "    for c in tradealpha:\n",
    "        if c not in gridpartners:gridpartners[c]=[]\n",
    "        if c not in allgrid:allgrid[c]=[]\n",
    "        if c not in gridsize:gridsize[c]=0\n",
    "        if c not in allgridsize:allgridsize[c]=0\n",
    "        for y in tradealpha[c]:\n",
    "            if y not in zgrid[fuel]:zgrid[fuel][y]={}\n",
    "            if y not in zzsize[fuel]:zzsize[fuel][y]={}\n",
    "            if fuel in tradealpha[c][y]:  \n",
    "                for f in tradealpha[c][y][fuel]:\n",
    "                    for i in tradealpha[c][y][fuel][f]:\n",
    "                        if i not in {\"World\",\"Northern America\",\"Africa\",'Latin America and the Caribbean','Europe'}:\n",
    "                            if int(float(i)) in iso2c:\n",
    "                                if not np.isnan(tradealpha[c][y][fuel][f][i]):\n",
    "                                    if tradealpha[c][y][fuel][f][i]!=0:\n",
    "                                        p=cnc(iso2c[int(float(i))])\n",
    "                                        \n",
    "                                        gridsize[c]+=tradealpha[c][y][fuel][f][i]\n",
    "                                        if p not in gridpartners[c]:\n",
    "                                            gridpartners[c].append(p)\n",
    "                                        \n",
    "                                        allgridsize[c]+=tradealpha[c][y][fuel][f][i]\n",
    "                                        if p not in allgrid[c]:\n",
    "                                            allgrid[c].append(p)\n",
    "                                            \n",
    "                                        if c not in zzsize[fuel][y]:zzsize[fuel][y][c]=0\n",
    "                                        zzsize[fuel][y][c]+=tradealpha[c][y][fuel][f][i]\n",
    "                                        if c not in zgrid[fuel][y]:zgrid[fuel][y][c]={}\n",
    "                                        if p not in zgrid[fuel][y][c]:\n",
    "                                            zgrid[fuel][y][c][p]=tradealpha[c][y][fuel][f][i]\n",
    "                                            \n",
    "    grid[fuel]=gridpartners\n",
    "    gridz[fuel]=gridsize"
   ]
  },
  {
   "cell_type": "code",
   "execution_count": 17,
   "metadata": {
    "collapsed": false
   },
   "outputs": [],
   "source": [
    "#existing electricity trade grid (and other fuels) last 5 years\n",
    "grid5={}\n",
    "gridz5={}\n",
    "allgrid5={}\n",
    "allgridsize5={}\n",
    "for fuel in {\"oil\",\"coal\",\"gas\",\"electricity\"}:\n",
    "    if fuel not in grid:grid[fuel]={}\n",
    "    gridpartners={}\n",
    "    gridsize={}\n",
    "    \n",
    "    for c in tradealpha:\n",
    "        if c not in gridpartners:gridpartners[c]=[]\n",
    "        if c not in allgrid5:allgrid5[c]=[]\n",
    "        if c not in gridsize:gridsize[c]=0\n",
    "        if c not in allgridsize5:allgridsize5[c]=0\n",
    "        for y in tradealpha[c]:\n",
    "            if y>2010:\n",
    "                if fuel in tradealpha[c][y]:  \n",
    "                    for f in tradealpha[c][y][fuel]:\n",
    "                        for i in tradealpha[c][y][fuel][f]:\n",
    "                            if i not in {\"World\",\"Northern America\",\"Africa\",'Latin America and the Caribbean','Europe'}:\n",
    "                                if int(float(i)) in iso2c:\n",
    "                                    if not np.isnan(tradealpha[c][y][fuel][f][i]):\n",
    "                                        if tradealpha[c][y][fuel][f][i]!=0:\n",
    "                                            p=cnc(iso2c[int(float(i))])\n",
    "                                        \n",
    "                                            if p not in gridpartners[c]:\n",
    "                                                gridpartners[c].append(p)\n",
    "\n",
    "                                            allgridsize[c]+=tradealpha[c][y][fuel][f][i]\n",
    "                                            if p not in allgrid[c]:\n",
    "                                                allgrid[c].append(p)\n",
    "                                                \n",
    "                                                \n",
    "    grid5[fuel]=gridpartners\n",
    "    gridz5[fuel]=gridsize"
   ]
  },
  {
   "cell_type": "markdown",
   "metadata": {},
   "source": [
    "world country centroids for network visualizations"
   ]
  },
  {
   "cell_type": "code",
   "execution_count": 18,
   "metadata": {
    "collapsed": false
   },
   "outputs": [],
   "source": [
    "import requests, StringIO"
   ]
  },
  {
   "cell_type": "code",
   "execution_count": 19,
   "metadata": {
    "collapsed": false,
    "scrolled": true
   },
   "outputs": [
    {
     "data": {
      "text/html": [
       "<div>\n",
       "<table border=\"1\" class=\"dataframe\">\n",
       "  <thead>\n",
       "    <tr style=\"text-align: right;\">\n",
       "      <th></th>\n",
       "      <th>LAT</th>\n",
       "      <th>LONG</th>\n",
       "    </tr>\n",
       "    <tr>\n",
       "      <th>Country</th>\n",
       "      <th></th>\n",
       "      <th></th>\n",
       "    </tr>\n",
       "  </thead>\n",
       "  <tbody>\n",
       "    <tr>\n",
       "      <th>Afghanistan</th>\n",
       "      <td>33.0</td>\n",
       "      <td>66.0</td>\n",
       "    </tr>\n",
       "    <tr>\n",
       "      <th>Albania</th>\n",
       "      <td>41.0</td>\n",
       "      <td>20.0</td>\n",
       "    </tr>\n",
       "  </tbody>\n",
       "</table>\n",
       "</div>"
      ],
      "text/plain": [
       "              LAT  LONG\n",
       "Country                \n",
       "Afghanistan  33.0  66.0\n",
       "Albania      41.0  20.0"
      ]
     },
     "execution_count": 19,
     "metadata": {},
     "output_type": "execute_result"
    }
   ],
   "source": [
    "r = requests.get('http://gothos.info/resource_files/country_centroids.zip')            #define URL path of zip file to read\n",
    "z = zipfile.ZipFile(StringIO.StringIO(r.content)) \n",
    "coord=pd.read_csv(z.open('country_centroids_all.csv'),sep='\\t').drop(['DMS_LAT','DMS_LONG','MGRS','JOG','DSG','FULL_NAME','ISO3136','AFFIL','FIPS10','MOD_DATE'],axis=1)\n",
    "coord.columns=['LAT','LONG','Country']\n",
    "coord=coord.set_index('Country',drop=True)\n",
    "coord.head(2)"
   ]
  },
  {
   "cell_type": "code",
   "execution_count": 20,
   "metadata": {
    "collapsed": true
   },
   "outputs": [],
   "source": [
    "#create normalized distance matrix of countries\n",
    "names=[]\n",
    "for i in coord.index:\n",
    "    names.append(cnc(i))\n",
    "coord['NAME']=names\n",
    "coord=coord.set_index('NAME',drop=True)"
   ]
  },
  {
   "cell_type": "code",
   "execution_count": 21,
   "metadata": {
    "collapsed": false
   },
   "outputs": [],
   "source": [
    "from math import radians, cos, sin, asin, sqrt\n",
    "\n",
    "def haversine(lon1, lat1, lon2, lat2):\n",
    "    \"\"\"\n",
    "    Calculate the great circle distance between two points \n",
    "    on the earth (specified in decimal degrees)\n",
    "    \"\"\"\n",
    "    # convert decimal degrees to radians \n",
    "    lon1, lat1, lon2, lat2 = map(radians, [lon1, lat1, lon2, lat2])\n",
    "\n",
    "    # haversine formula \n",
    "    dlon = lon2 - lon1 \n",
    "    dlat = lat2 - lat1 \n",
    "    a = sin(dlat/2)**2 + cos(lat1) * cos(lat2) * sin(dlon/2)**2\n",
    "    c = 2 * asin(sqrt(a)) \n",
    "    r = 6371 # Radius of earth in kilometers. Use 3956 for miles\n",
    "    return c * r\n",
    "def distance(i,j):\n",
    "    if i in coord.index and j in coord.index:\n",
    "        return haversine(coord.loc[i]['LONG'],coord.loc[i]['LAT'],\n",
    "                    coord.loc[j]['LONG'],coord.loc[j]['LAT'])\n",
    "    else: return 5000"
   ]
  },
  {
   "cell_type": "code",
   "execution_count": 22,
   "metadata": {
    "collapsed": true
   },
   "outputs": [],
   "source": [
    "predata=json.loads(file(pop_path+'savedata5.json','r').read())\n",
    "data={}\n",
    "for c in predata:\n",
    "    data[c]={}\n",
    "    for year in predata[c]:\n",
    "        data[c][int(year)]=predata[c][year]\n",
    "predata={}"
   ]
  },
  {
   "cell_type": "code",
   "execution_count": 23,
   "metadata": {
    "collapsed": false
   },
   "outputs": [],
   "source": [
    "goodcountries=list(set(data.keys()).intersection(set(tradealpha.keys())))\n",
    "limit=20 #dev\n",
    "#goodcountries=goodcountries[:limit]\n",
    "rgc={} #reverse goodcountries coder\n",
    "for i in range(len(goodcountries)):\n",
    "    rgc[goodcountries[i]]=i\n",
    "matrix=[[0 for i in goodcountries] for j in goodcountries]"
   ]
  },
  {
   "cell_type": "code",
   "execution_count": 24,
   "metadata": {
    "collapsed": false
   },
   "outputs": [],
   "source": [
    "#long, run once\n",
    "dists=[]\n",
    "for i in range(len(goodcountries)):\n",
    "    for j in range(i):\n",
    "        dists.append(distance(goodcountries[i],goodcountries[j])) "
   ]
  },
  {
   "cell_type": "code",
   "execution_count": 25,
   "metadata": {
    "collapsed": true
   },
   "outputs": [],
   "source": [
    "distancenorm=np.mean(dists)\n",
    "def normdistance(i,j):\n",
    "    if i in coord.index and j in coord.index:\n",
    "        return haversine(coord.loc[i]['LONG'],coord.loc[i]['LAT'],\n",
    "                    coord.loc[j]['LONG'],coord.loc[j]['LAT'])/distancenorm\n",
    "    else: return 5000.0/distancenorm"
   ]
  },
  {
   "cell_type": "markdown",
   "metadata": {},
   "source": [
    "## ALLOCATION"
   ]
  },
  {
   "cell_type": "markdown",
   "metadata": {},
   "source": [
    "Create  Hungarian cost matrix. this will be a normalized, per unit EROEI * willingness to do trade. this is the cumulative, directed trade history. "
   ]
  },
  {
   "cell_type": "markdown",
   "metadata": {},
   "source": [
    "Calculate trade influence matrix. Trade influence is proportional to the total histrocial value of energy trade. If there is no energy trade, some trade is still better than no trade. We will two pairs of import-export flows for each pair, once in each entry's data. For deciding the impor cost influence, we will use 2/3 historical imports and 1/3 historcial exports, caluclated separately for sender and receiver flows, then averged. E.g. a good import partner of country A, let's call it country B, exports a large percentage of its exports to country A and country A receives a large share of its exports from B. The reverse flows are also factored in with a weight of 1/3. The partner-parnter weights are factored in with weights 2/3 (meaning that it is a directed flow but any country who depends on imports or exports signifcantly on another, will push hard politically to keep this trade flowing). We have no weighting to differentiate between energy products, all treated the same. We consider the direct flows more reliable information, hence we give them a weight of 2/3, while the reverse flows get 1/3."
   ]
  },
  {
   "cell_type": "markdown",
   "metadata": {},
   "source": [
    "## Impex updating"
   ]
  },
  {
   "cell_type": "code",
   "execution_count": 26,
   "metadata": {
    "collapsed": true
   },
   "outputs": [],
   "source": [
    "tradecutoff=0.01"
   ]
  },
  {
   "cell_type": "code",
   "execution_count": 27,
   "metadata": {
    "collapsed": true
   },
   "outputs": [],
   "source": [
    "#direct flow matrices\n",
    "importmatrix=[[0 for i in goodcountries] for j in goodcountries]\n",
    "exportmatrix=[[0 for i in goodcountries] for j in goodcountries]\n",
    "#reverse flow matrices\n",
    "rimportmatrix=[[0 for i in goodcountries] for j in goodcountries]\n",
    "rexportmatrix=[[0 for i in goodcountries] for j in goodcountries]\n",
    "\n",
    "cid={}\n",
    "for i in range(len(goodcountries)):\n",
    "    cid[goodcountries[i]]=i\n",
    "\n",
    "#fill import-export matrix for year x with flow f of value v\n",
    "def impex(reporter,partner,flow,value):\n",
    "    global importmatrix\n",
    "    global exportmatrix\n",
    "    global rimportmatrix\n",
    "    global rexportmatrix\n",
    "    i=cid[reporter]\n",
    "    j=cid[partner]\n",
    "    if flow in {\"Export\",\"Re-Export\"}:\n",
    "        exportmatrix[i][j]+=value\n",
    "        rimportmatrix[j][i]+=value\n",
    "    if flow in {\"Import\",\"Re-Import\"}:\n",
    "        importmatrix[i][j]+=value\n",
    "        rexportmatrix[j][i]+=value\n",
    "    return\n",
    "\n",
    "#fill up existing values\n",
    "def reloadimpex(): #runright after after resetting tradealpha\n",
    "    for i in range(len(goodcountries)):\n",
    "        reporter=goodcountries[i]\n",
    "        for year in tradealpha[reporter]:\n",
    "            for fuel in tradealpha[reporter][year]:\n",
    "                for flow in tradealpha[reporter][year][fuel]:\n",
    "                    for p in tradealpha[reporter][year][fuel][flow]:\n",
    "                        pp=int(float(str(p)))\n",
    "                        if pp in iso2c:\n",
    "                            if cnc(iso2c[pp]) in goodcountries: \n",
    "                                #self trade allowed\n",
    "                                partner=cnc(iso2c[pp])\n",
    "                                value=tradealpha[reporter][year][fuel][flow][p]\n",
    "                                if value>tradecutoff:\n",
    "                                    impex(reporter,partner,flow,value)"
   ]
  },
  {
   "cell_type": "code",
   "execution_count": 28,
   "metadata": {
    "collapsed": false
   },
   "outputs": [],
   "source": [
    "#create influence matrix (from normilzed trade matrices)\n",
    "\n",
    "#norm direct flow matrices\n",
    "nimportmatrix=[[0 for i in goodcountries] for j in goodcountries]\n",
    "nexportmatrix=[[0 for i in goodcountries] for j in goodcountries]\n",
    "#norm reverse flow matrices\n",
    "nrimportmatrix=[[0 for i in goodcountries] for j in goodcountries]\n",
    "nrexportmatrix=[[0 for i in goodcountries] for j in goodcountries]\n",
    "\n",
    "def normalizeimpex():\n",
    "    global nimportmatrix\n",
    "    global nexportmatrix\n",
    "    global nrimportmatrix\n",
    "    global nrexportmatrix\n",
    "    #initialize normalized matrices\n",
    "    for i in range(len(goodcountries)):\n",
    "        for j in range(len(goodcountries)):\n",
    "            if np.nanmean(importmatrix[i])>0:nimportmatrix[i][j]=importmatrix[i][j]/np.nanmean(importmatrix[i])\n",
    "            if np.nanmean(exportmatrix[i])>0:nexportmatrix[i][j]=exportmatrix[i][j]/np.nanmean(exportmatrix[i])\n",
    "            if np.nanmean(rimportmatrix[i])>0:nrimportmatrix[i][j]=rimportmatrix[i][j]/np.nanmean(rimportmatrix[i])\n",
    "            if np.nanmean(rexportmatrix[i])>0:nrexportmatrix[i][j]=rexportmatrix[i][j]/np.nanmean(rexportmatrix[i])"
   ]
  },
  {
   "cell_type": "code",
   "execution_count": 44,
   "metadata": {
    "collapsed": false
   },
   "outputs": [],
   "source": [
    "def impex(reporter,partner,flow,value):\n",
    "    global importmatrix\n",
    "    global exportmatrix\n",
    "    global rimportmatrix\n",
    "    global rexportmatrix\n",
    "    i=cid[reporter]\n",
    "    j=cid[partner]\n",
    "    if flow in {\"Export\",\"Re-Export\"}:\n",
    "        exportmatrix[i][j]+=value\n",
    "        rimportmatrix[j][i]+=value\n",
    "    if flow in {\"Import\",\"Re-Import\"}:\n",
    "        importmatrix[i][j]+=value\n",
    "        rexportmatrix[j][i]+=value\n",
    "    return\n",
    "\n",
    "def updatenormimpex(reporter,partner,flow,value,weight=0.1):\n",
    "    global mimportmatrix\n",
    "    global mexportmatrix\n",
    "    global mrimportmatrix\n",
    "    global mrexportmatrix\n",
    "    i=cid[reporter]\n",
    "    j=cid[partner]\n",
    "    if flow in {\"Export\",\"Re-Export\"}:\n",
    "        nexportmatrix[i][j]=(nexportmatrix[i][j]*(1-weight))+(value*weight)\n",
    "        nrimportmatrix[j][i]=(nrimportmatrix[j][i]*(1-weight))+(value*weight)\n",
    "    if flow in {\"Import\",\"Re-Import\"}:\n",
    "        nimportmatrix[i][j]=(nrimportmatrix[i][j]*(1-weight))+(value*weight)\n",
    "        nrexportmatrix[j][i]=(nrexportmatrix[j][i]*(1-weight))+(value*weight)\n",
    "    return\n",
    "\n",
    "def influence(reporter,partner,selfinfluence=50,nonlinearitypower=0.6):\n",
    "    i=cid[reporter]\n",
    "    j=cid[partner]\n",
    "    if i==j: v=selfinfluence\n",
    "    else: v=12.0/36*nimportmatrix[i][j]\\\n",
    "        +6.0/36*nexportmatrix[j][i]\\\n",
    "        +4.0/36*nrimportmatrix[i][j]\\\n",
    "        +2.0/36*nrexportmatrix[j][i]\\\n",
    "        +6.0/36*nexportmatrix[i][j]\\\n",
    "        +3.0/36*nimportmatrix[j][i]\\\n",
    "        +2.0/36*nrexportmatrix[i][j]\\\n",
    "        +1.0/36*nrimportmatrix[j][i]\n",
    "    \n",
    "    #trade is naturally exponentially distributed, so we need to account for this\n",
    "    return v**nonlinearitypower"
   ]
  },
  {
   "cell_type": "markdown",
   "metadata": {},
   "source": [
    "Create energy cost by filling the matrix with the cost of row importing 1TWh from column. neglecting transport energy costs for now, this will be the extraction energy cost. Let us consider only solar for now. Try optimization with all three source, choose one with best objective value. 1TWh tier changes based on granurality."
   ]
  },
  {
   "cell_type": "code",
   "execution_count": 30,
   "metadata": {
    "collapsed": false
   },
   "outputs": [],
   "source": [
    "#weighted resource class calculator\n",
    "def re(dic,total):\n",
    "    if dic!={}:\n",
    "        i=max(dic.keys())\n",
    "        mi=min(dic.keys())\n",
    "        run=True\n",
    "        keys=[]\n",
    "        weights=[]\n",
    "        counter=0\n",
    "        while run:\n",
    "            counter+=1 #safety break\n",
    "            if counter>1000: run=False\n",
    "            if i in dic:\n",
    "                if total<dic[i]:\n",
    "                    keys.append(i)\n",
    "                    weights.append(total)\n",
    "                    run=False\n",
    "                else:\n",
    "                    total-=dic[i]\n",
    "                    keys.append(i)\n",
    "                    weights.append(dic[i])\n",
    "                    i-=1\n",
    "            if i<mi: run=False\n",
    "        if sum(weights)==0: return 0\n",
    "        else: return np.average(keys,weights=weights)\n",
    "    else: return 0"
   ]
  },
  {
   "cell_type": "markdown",
   "metadata": {},
   "source": [
    "Allocation algorithm:\n",
    "\n",
    "1. Step year\n",
    " 1.  Create list of countries with negative balances\n",
    " 1.  Pick a country at random from the list who have negative balances\n",
    "    1. Tier the country's needs into k(=5) tiers\n",
    "    1. Query cost matrix for all countries for the amount on the tier k for all energy sources\n",
    "    1. Choose partner and energy source based on an indicator composed of:\n",
    "        1. Lowest cost\n",
    "        1. Country influence - partners are ranked from 0 to 1. Self has a weight of 2.\n",
    "        1. Does not exceed diversification limits within the same year (providing max z%(=20) of the year's demand)\n",
    "    1. Choose form of trade:\n",
    "        1. Calculate costs for trade for:\n",
    "            1. On existing grid or grid expansion\n",
    "            1. PTL\n",
    "        1. Calculate costs of storage based on:\n",
    "            1. Global storage need in gird share and its distributions by type (from Breyer)\n",
    "    1. Implement trade:\n",
    "        1. Update receiver balance\n",
    "        1. Reduce provider reserves\n",
    "        1. Add provider investment costs: building the capacity\n",
    "            1. Distribute equally on provider energy mix\n",
    "        1. Add receiver investment costs: storage, transport, grid expansion, grid rent\n",
    "            1. Distribute equally on receiver energy mix\n",
    "    - Record total cost of the trade\n",
    " 1. Pick another ocuntry at random and repeat until all countries are finished\n",
    " 1. Calculate total cost of year\n",
    " 1. Try to minimize total cost through simulated annealing repeated within year:\n",
    "     1. Start with random processing order for countries\n",
    "     1. Complete the year with that order\n",
    "     1. Swap two countries in the order at ranom\n",
    "     1. Repeat the year and see if the total costs decreased\n",
    "         1. If yes, keep the swap, then swap another one\n",
    "         1. If no, revert the swap and swap another one\n",
    "1. Calculate total cost of transition for year, then step year\n",
    "1. After all years finished, record total cost of transition"
   ]
  },
  {
   "cell_type": "code",
   "execution_count": 31,
   "metadata": {
    "collapsed": false
   },
   "outputs": [],
   "source": [
    "#average resource quality calculator for the globe\n",
    "def update_aroei():\n",
    "    global aroei\n",
    "    aroei={}\n",
    "    groei={}\n",
    "    for c in res:\n",
    "        for r in res[c]:\n",
    "            if r not in groei: groei[r]={}\n",
    "            for cl in res[c][r]['res']:\n",
    "                if cl not in groei[r]: groei[r][cl]=0\n",
    "                groei[r][cl]+=res[c][r]['res'][cl]\n",
    "    for r in groei:\n",
    "        x=[]\n",
    "        y=[]\n",
    "        for i in range(len(sorted(groei[r].keys()))):\n",
    "            x.append(float(sorted(groei[r].keys())[i]))\n",
    "            y.append(float(groei[r][sorted(groei[r].keys())[i]]))\n",
    "        aroei[r]=np.average(x,weights=y)"
   ]
  },
  {
   "cell_type": "code",
   "execution_count": 32,
   "metadata": {
    "collapsed": false
   },
   "outputs": [],
   "source": [
    "#1Bdi - grid\n",
    "def gridtestimator(country,partner):\n",
    "    \n",
    "    def electricitytrade(country,partner):\n",
    "        scaler=1\n",
    "        gridpartners=grid5['electricity']\n",
    "        #existing trade partners\n",
    "        if ((partner in gridpartners[country]) or (country in gridpartners[partner])): \n",
    "            scaler+=cost.loc[region.loc[country]]['egrid'].values[0]/2.0\n",
    "        #neighbors, but need to build\n",
    "        elif pop2iso[country] in c2neighbors:\n",
    "            if (pop2iso[partner] in c2neighbors[pop2iso[country]]):\n",
    "                scaler+=cost.loc[region.loc[country]]['grid'].values[0]/2.0*normdistance(country,partner)\n",
    "        #not neighbors or partners but in the same region, need to build\n",
    "        elif (region.loc[country][0]==region.loc[partner][0]):\n",
    "            scaler+=cost.loc[region.loc[country]]['grid'].values[0]*3.0/2.0*normdistance(country,partner)\n",
    "        #need to build supergrid, superlative costs\n",
    "        else: scaler+=cost.loc[region.loc[country]]['grid'].values[0]*10.0/2.0*normdistance(country,partner)\n",
    "        return scaler\n",
    "    \n",
    "    def ptltrade(country,partner):\n",
    "        #ptg costs scale with distance\n",
    "        scaler=1+cost.loc[11]['ptg']*normdistance(country,partner) \n",
    "        return scaler\n",
    "    \n",
    "    if ptltrade(country,partner)<electricitytrade(country,partner):\n",
    "        return {\"scaler\":ptltrade(country,partner),\"tradeway\":\"ptl\"}\n",
    "    else: return {\"scaler\":electricitytrade(country,partner),\"tradeway\":\"grid\"}"
   ]
  },
  {
   "cell_type": "code",
   "execution_count": 33,
   "metadata": {
    "collapsed": false
   },
   "outputs": [],
   "source": [
    "#1Bdii - storage &curtailment\n",
    "def storagestimator(country,partner):\n",
    "    return cost.loc[region.loc[country]]['min'].values[0]\n",
    "    #curtoversizer\n",
    "def curtestimator(country,partner):\n",
    "    return cost.loc[region.loc[country]]['curt'].values[0]"
   ]
  },
  {
   "cell_type": "code",
   "execution_count": 46,
   "metadata": {
    "collapsed": false
   },
   "outputs": [],
   "source": [
    "#global eroei, due to state of technology\n",
    "#http://www.sciencedirect.com/science/article/pii/S0301421513003856\n",
    "eroei={\n",
    "'oil':13,\n",
    "'coal':27,\n",
    "'gas':14,\n",
    "'nuclear':10,\n",
    "'biofuels':1.5,\n",
    "'hydro':84,\n",
    "'geo_other':22,\n",
    "'pv':16,\n",
    "'csp':2,\n",
    "'wind':24 #was 24\n",
    "}\n",
    "#esoei\n",
    "#http://pubs.rsc.org/en/content/articlepdf/2013/ee/c3ee41973h\n",
    "#various, but especially CSP from https://en.wikipedia.org/wiki/EROEI\n",
    "#http://link.springer.com/chapter/10.1007/978-3-319-02940-5_5#Sec18\n",
    "#charlie hall says number are 5-7 for csp, but without additional costs of the supporting infrastructure"
   ]
  },
  {
   "cell_type": "markdown",
   "metadata": {},
   "source": [
    "# ALLINONE"
   ]
  },
  {
   "cell_type": "code",
   "execution_count": 40,
   "metadata": {
    "collapsed": false
   },
   "outputs": [],
   "source": [
    "sd=3"
   ]
  },
  {
   "cell_type": "code",
   "execution_count": 37,
   "metadata": {
    "collapsed": false
   },
   "outputs": [],
   "source": [
    "region=pd.read_excel(pop_path+'regions.xlsx').set_index('Country')"
   ]
  },
  {
   "cell_type": "code",
   "execution_count": 42,
   "metadata": {
    "collapsed": false
   },
   "outputs": [
    {
     "name": "stdout",
     "output_type": "stream",
     "text": [
      "scenario 3 loaded resources balance tradedata impex 2015 2016 2017 2018 2019 2020 2021 2022 2023 2024 2025 2026 2027 2028 2029\n"
     ]
    }
   ],
   "source": [
    "#import resources\n",
    "\n",
    "###################################\n",
    "###################################\n",
    "#load resources\n",
    "predata=json.loads(file(pop_path+'maps/res.json','r').read())\n",
    "res={}\n",
    "for c in predata:\n",
    "    res[c]={}\n",
    "    for f in predata[c]:\n",
    "        res[c][f]={}\n",
    "        for r in predata[c][f]:\n",
    "            res[c][f][r]={}\n",
    "            for year in predata[c][f][r]:\n",
    "                res[c][f][r][int(year)]=predata[c][f][r][year]\n",
    "predata={}\n",
    "print 'scenario',sd,'loaded resources',\n",
    "###################################\n",
    "###################################\n",
    "#load balance\n",
    "predata=json.loads(file(pop_path+'balance.json','r').read())\n",
    "balance={}\n",
    "for year in predata:\n",
    "    balance[int(year)]=predata[year]\n",
    "predata={}\n",
    "print 'balance',\n",
    "###################################\n",
    "###################################\n",
    "#load tradealpha d\n",
    "predata=json.loads(file(pop_path+'/trade/traded.json','r').read())\n",
    "tradealpha={}\n",
    "for c in predata:\n",
    "    tradealpha[c]={}\n",
    "    for year in predata[c]:\n",
    "        tradealpha[c][int(year)]=predata[c][year]\n",
    "predata={}\n",
    "print 'tradedata',\n",
    "###################################\n",
    "###################################\n",
    "#reload impex and normalize\n",
    "predata=json.loads(file(pop_path+'trade/nimpex.json','r').read())\n",
    "nexportmatrix=predata[\"nexport\"]\n",
    "nimportmatrix=predata[\"nimport\"]\n",
    "nrexportmatrix=predata[\"nrexport\"]\n",
    "nrimportmatrix=predata[\"nrimport\"]\n",
    "predata={}\n",
    "print 'impex',\n",
    "###################################\n",
    "###################################\n",
    "#load latest savedata\n",
    "''' #we dont change the data for now, everything is handled through trade\n",
    "predata=json.loads(file(pop_path+'savedata5.json','r').read())\n",
    "data={}\n",
    "for c in predata:\n",
    "    data[c]={}\n",
    "    for year in predata[c]:\n",
    "        data[c][int(year)]=predata[c][year]\n",
    "predata={}\n",
    "print 'data'\n",
    "'''\n",
    "###################################\n",
    "###################################\n",
    "###################################\n",
    "###################################\n",
    "###################################\n",
    "###################################\n",
    "globalinvestment={}\n",
    "for year in range(2015,2030):\n",
    "    print year,\n",
    "    if year not in globalinvestment:globalinvestment[year]={\"net\":0,\"inv\":0}\n",
    "    #SET PARAMETERS\n",
    "    #------------------------------------------------\n",
    "    #0-reset reserves\n",
    "    '''\n",
    "    predata=json.loads(file(pop_path+'maps/res.json','r').read())\n",
    "    res={}\n",
    "    for c in predata:\n",
    "        res[c]={}\n",
    "        for f in predata[c]:\n",
    "            res[c][f]={}\n",
    "            for r in predata[c][f]:\n",
    "                res[c][f][r]={}\n",
    "                for y in predata[c][f][r]:\n",
    "                    res[c][f][r][int(y)]=predata[c][f][r][y]\n",
    "    predata={}\n",
    "    '''\n",
    "    #1A\n",
    "    needers=sorted([c for c in balance[year] if balance[year][c]<0])\n",
    "    #1B\n",
    "    #import random\n",
    "    random.seed(sd)\n",
    "    #shuffle order of parsing countries\n",
    "    random.shuffle(needers)\n",
    "    #------------------------------------------------\n",
    "    #1Ba\n",
    "    #country for parsing the needers list\n",
    "    for counter in range(len(needers)):\n",
    "        country=needers[counter]\n",
    "        #print country,\n",
    "        need=-balance[year][country] #as a convention switch to positive, defined as 'need'\n",
    "        mintier=1 #in TWh\n",
    "        midtier=10 #mid tier TWh\n",
    "        hitier=100 #mid tier TWh\n",
    "        if need>hitier: tiernumber=10\n",
    "        elif need>midtier: tiernumber=5\n",
    "        elif need>mintier: tiernumber=3\n",
    "        else: tiernumber=1\n",
    "        \n",
    "        fuelhistory=set()\n",
    "        for tier in range(tiernumber):\n",
    "            tierneed=need*1.0/tiernumber\n",
    "            #reset fuel history if filled\n",
    "            if fuelhistory=={'csp','pv','wind'}:fuelhistory=set()\n",
    "            #------------------------------------------------\n",
    "            #1Bb\n",
    "            costvector={}\n",
    "            update_aroei() #update sate of the resources globally to be able to rank between technologies\n",
    "            for partner in goodcountries:\n",
    "                if partner in res:\n",
    "                    for fuel in {'csp','pv','wind'}:\n",
    "                        #at each time step you much import each fuel typeat least once\n",
    "                        if fuel not in fuelhistory:\n",
    "                            if res[partner][fuel]['res']!={}:\n",
    "                                #rq (resource query) returns the average resource class at which this tierneed can be provided\n",
    "                                rq=re(res[partner][fuel]['res'],tierneed)\n",
    "                                #the costvector takes the resource class and converts it to eroei by comparing it \n",
    "                                #the average resource class at a known point with a know eroei (at start in 2015)\n",
    "                                #we are looking figh highvalues, as a marginal quality of resource\n",
    "                                costvector[fuel+'_'+partner]=(rq/aroei[fuel]*eroei[fuel]) #normalized resource quality over eroei\n",
    "\n",
    "            #1Bbi - norlmalize costvector to be able to compare with trade influence\n",
    "            normcostvector=copy.deepcopy(costvector)\n",
    "            for i in normcostvector:\n",
    "                costvector[i]/=np.nanmean(costvector.values())\n",
    "            #1Bbii - create costfactor, weights are tweakable\n",
    "            costfactor={}\n",
    "            for key in costvector:\n",
    "                partner=key[key.find('_')+1:]\n",
    "                costfactor[key]=((costvector[key]**2)*(influence(country,partner)**2))**(1/4.0)\n",
    "                #The geometric mean is more appropriate than the arithmetic mean for describing proportional growth, \n",
    "                #both exponential growth (constant proportional growth) and varying growth; i\n",
    "                #n business the geometric mean of growth rates is known as the compound annual growth rate (CAGR). \n",
    "                #The geometric mean of growth over periods yields the equivalent constant growth rate that would \n",
    "                #yield the same final amount.\n",
    "                    \n",
    "            #1Bc - choose partner\n",
    "            best=max(costfactor, key=costfactor.get)\n",
    "            tradepartner=best[best.find('_')+1:]\n",
    "            tradefuel=best[:best.find('_')]\n",
    "            fuelhistory.add(tradefuel)\n",
    "            #------------------------------------------------\n",
    "            #1Be - IMPLEMENT TRADE\n",
    "            #update globalinvestment\n",
    "            globalinvestment[year][\"net\"]+=tierneed\n",
    "            globalinvestment[year][\"inv\"]+=tierneed/normcostvector[best]\n",
    "            #1Bei - update receiver balance\n",
    "            balance[year][country]-=tierneed\n",
    "            #1Beii - Reduce provider reserves within year\n",
    "            levels=res[tradepartner][tradefuel]['res'].keys()\n",
    "            level=max(levels)\n",
    "            tomeet=tierneed*1.0\n",
    "            while level>min(levels): \n",
    "                if level not in res[tradepartner][tradefuel]['res']: level-=1\n",
    "                elif res[tradepartner][tradefuel]['res'][level]<tomeet:\n",
    "                    tomeet-=res[tradepartner][tradefuel]['res'][level]\n",
    "                    res[tradepartner][tradefuel]['res'].pop(level)\n",
    "                    level-=1\n",
    "                else:\n",
    "                    res[tradepartner][tradefuel]['res'][level]-=tomeet\n",
    "                    level=0\n",
    "            #------------------------------------------------\n",
    "            #1Be-implement country trade\n",
    "            key=gridtestimator(country,partner)['tradeway']+'_'+tradefuel\n",
    "            #add import flow\n",
    "            if key not in tradealpha[country][year]:tradealpha[country][year][key]={}\n",
    "            if 'Import' not in tradealpha[country][year][key]:tradealpha[country][year][key][\"Import\"]={}\n",
    "            if str(pop2iso[tradepartner]) not in tradealpha[country][year][key][\"Import\"]:\n",
    "                tradealpha[country][year][key][\"Import\"][str(pop2iso[tradepartner])]=0\n",
    "            tradealpha[country][year][key][\"Import\"][str(pop2iso[tradepartner])]+=tierneed\n",
    "            #add export flow\n",
    "            if key not in tradealpha[tradepartner][year]:tradealpha[tradepartner][year][key]={}\n",
    "            if 'Export' not in tradealpha[tradepartner][year][key]:tradealpha[tradepartner][year][key][\"Export\"]={}\n",
    "            if str(pop2iso[country]) not in tradealpha[tradepartner][year][key][\"Export\"]:\n",
    "                tradealpha[tradepartner][year][key][\"Export\"][str(pop2iso[country])]=0\n",
    "            tradealpha[tradepartner][year][key][\"Export\"][str(pop2iso[country])]+=tierneed\n",
    "\n",
    "            #record trade to influence - counld be weighted, deaful is 10%\n",
    "            updatenormimpex(country,tradepartner,'Import',tierneed/need) \n",
    "            updatenormimpex(tradepartner,country,'Export',tierneed/need) "
   ]
  },
  {
   "cell_type": "code",
   "execution_count": 43,
   "metadata": {
    "collapsed": false
   },
   "outputs": [],
   "source": [
    "save3(sd)"
   ]
  },
  {
   "cell_type": "code",
   "execution_count": 160,
   "metadata": {
    "collapsed": false
   },
   "outputs": [
    {
     "data": {
      "text/plain": [
       "(array([ 126.,   31.,   20.,    7.,    4.,    0.,    0.,    0.,    0.,    1.]),\n",
       " array([  0.,   1.,   2.,   3.,   4.,   5.,   6.,   7.,   8.,   9.,  10.]),\n",
       " <a list of 10 Patch objects>)"
      ]
     },
     "execution_count": 160,
     "metadata": {},
     "output_type": "execute_result"
    },
    {
     "data": {
      "image/png": "[encoded data removed]",
      "text/plain": [
       "<matplotlib.figure.Figure at 0x32028668>"
      ]
     },
     "metadata": {},
     "output_type": "display_data"
    }
   ],
   "source": [
    "plt.hist(costvector.values())\n",
    "plt.hist(costfactor.values())\n",
    "h={}\n",
    "c='Saudi Arabia'\n",
    "for i in goodcountries:\n",
    "    h[i]=influence(c,i)\n",
    "plt.hist(h.values())"
   ]
  }
 ],
 "metadata": {
  "kernelspec": {
   "display_name": "Python 2",
   "language": "python",
   "name": "python2"
  },
  "language_info": {
   "codemirror_mode": {
    "name": "ipython",
    "version": 2
   },
   "file_extension": ".py",
   "mimetype": "text/x-python",
   "name": "python",
   "nbconvert_exporter": "python",
   "pygments_lexer": "ipython2",
   "version": "2.7.11"
  }
 },
 "nbformat": 4,
 "nbformat_minor": 0
}
