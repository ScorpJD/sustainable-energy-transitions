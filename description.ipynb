{
 "cells": [
  {
   "cell_type": "markdown",
   "metadata": {},
   "source": [
    "<h1>Sustainable Energy Transitions</h1>\n",
    "<p>A project by <a href=\"http://www.ssgouridis.org\" target=\"_blank\" >Sgouris Sgouridis</a> and <a href=\"http://www.csaladen.es\" target=\"_blank\" >Dénes Csala</a> at <a  href=\"http://www.masdar.ac.ae\" target=\"_blank\">Masdar Institute of Science and Technology</a></p>\n",
    "<h2>Presentations</h2>\n",
    "<table style=\"border:none;\">\n",
    "    <tr style=\"border:none;\">\n",
    "        <td style=\"border:none;\"><a href=\"https://docs.google.com/file/d/0B-5yijFzzgfgNGJlMXQ5ZEJCTWc/edit\" target=\"_blank\"><img style=\"height:200px\" src=\"img/pres1.jpg\"></a></td>\n",
    "        <td style=\"border:none;\"><a href=\"http://www.csaladen.es/doc/Sgouridis_Csala_IEW_2015_v3.pptx\" target=\"_blank\"><img style=\"height:200px\" src=\"img/pres2.jpg\"></a></td>\n",
    "        <td style=\"border:none;\"><a href=\"http://www.csaladen.es/doc/Denes_PhD_Qual2.pptx\" target=\"_blank\"><img style=\"height:200px\" src=\"img/pres3.jpg\"></a></td>\n",
    "    </tr>\n",
    "    <tr style=\"border:none;\">\n",
    "        <td style=\"text-align:center;border:none;\" ><a href=\"https://docs.google.com/file/d/0B-5yijFzzgfgNGJlMXQ5ZEJCTWc/edit\" target=\"_blank\">Avoiding the Energy Trap: Guidelines<br> for a Sustainable Energy Transition</a></td>\n",
    "        <td style=\"text-align:center;border:none;\"><a href=\"http://www.csaladen.es/doc/Sgouridis_Csala_IEW_2015_v3.pptx\" target=\"_blank\">Renewable Energy Investment Ratio: Key <br>to the Global Sustainable Energy Transition</a></td>\n",
    "        <td style=\"text-align:center;border:none;\"><a href=\"http://www.csaladen.es/doc/Denes_PhD_Qual2.pptx\" target=\"_blank\">20 Trillion Green Watts: Investigating Global and<br> National Sustainable Energy Transition Paths</a></td>\n",
    "    </tr>\n",
    "    <tr style=\"border:none;\">\n",
    "        <td style=\"text-align:center;border:none;\" >Masdar Institute<br/> February 2015, Abu Dhabi</td>\n",
    "        <td style=\"text-align:center;border:none;\">34th International Energy Workshop organized<br/> by the International Renewable Energy Agency<br/> June 2015, Abu Dhabi</td>\n",
    "        <td style=\"text-align:center;border:none;\">MIT<br/>October 2015, Cambridge</td>\n",
    "    </tr>\n",
    "</table>\n",
    "<h2>Articles</h2>       \n",
    "<p>(1) Sgouridis, Csala, <a href=\"http://www.mdpi.com/2071-1050/6/5/2601\" target=\"_blank\" >A Framework for Defining Sustainable Energy Transitions: Principles, Dynamics, and Implications</a>, 2014, Sustainability<br/>\n",
    "(2) Sgouridis, Bardi, Csala, <a href=\"http://arxiv.org/abs/1503.06832\" target=\"_blank\" >A Net Energy-based Analysis for a Climate-constrained Sustainable Energy Transition</a>, 2015, preprint on arXiv<br/>\n",
    "(3) Sgouridis, Csala, Bardi, <a href=\"http://iopscience.iop.org/article/10.1088/1748-9326/11/9/094009" target=\"_blank\" >The Sower's way. Quantifying the Narrowing Net-Energy Pathways to a Global Energy Transition</a>, 2016, Env. Res. Let.</p>\n",
    "<h2>Models</h2>  \n",
    "<p>\n",
    "<div style=\"display:block;overflow: hidden;white-space: nowrap;\"><span style=\"float:left;\">SET Model 1.0&nbsp;|&nbsp;<a href=\"http://set.csaladen.es/set.html\" target=\"_blank\" >Online simulator</a>&nbsp;|&nbsp;<a href=\"http://set.csaladen.es/models/set.zip\" target=\"_blank\" >source file</a></span></div>\n",
    "<div style=\"display:block;overflow: hidden;white-space: nowrap;\"><span style=\"float:left;\">SET Model 2.0&nbsp;|&nbsp;<a href=\"http://set.csaladen.es/set2.html\" target=\"_blank\" >Online simulator</a>&nbsp;|&nbsp;<a href=\"http://set.csaladen.es/models/set2.zip\" target=\"_blank\" >source file</a></span></div></p>\n",
    "<h2>Cite</h2>       \n",
    "<p>Please use articles (1) and (3) to refer to this work. Contact the authors (<a href=\"mailto:dcsala@masdar.ac.ae\" target=\"_blank\" >Dénes</a>, <a href=\"mailto:ssgouridis@masdar.ac.ae\" target=\"_blank\" >Sgouris</a>) if you would like to use the data presented on this website more extensively or you would like to collaborate on the project.</p>"
   ]
  },
  {
   "cell_type": "markdown",
   "metadata": {},
   "source": [
    "<h2>Description</h2>\n",
    "<div>This section presents the work done for generating the sustainable energy transition morphology plots presented on the <a href=\"http://set.csaladen.es/\">main</a> page of this site.</div>\n",
    "<h3>Workflow</h3>\n",
    "<ol>\n",
    "<li>Prepare background data on energy and emissions using <a href=\"http://nbviewer.ipython.org/url/set.csaladen.es/calculator.ipynb\" target=\"_blank\"><b>this</b></a> <a href=\"http://ipython.org/\" target=\"_blank\">Ipython</a> notebook by accessing the <a href=\"http://www.eia.gov/beta/international/data/browser/#?ord=SA&cy=2012&v=H&vo=0&so=0&io=0&start=1980&end=2012&vs=INTL.44-1-AFRC-QBTU.A~INTL.44-1-ASOC-QBTU.A~INTL.44-1-CSAM-QBTU.A~INTL.44-1-EURA-QBTU.A~INTL.44-1-EURO-QBTU.A~INTL.44-1-MIDE-QBTU.A~INTL.44-1-NOAM-QBTU.A\" target=\"_blank\">EIA</a>, <a href=\"http://www.bp.com/en/global/corporate/about-bp/energy-economics/energy-outlook.html\" target=\"_blank\">BP</a> and <a href=\"http://data.worldbank.org/\" target=\"_blank\">World Bank</a> open databases.</li>\n",
    "<li>Build <a href=\"http://set.csaladen.es/set2.html\" target=\"_blank\">SET Model 2.0</a> using <a href=\"http://www.anylogic.com/\" target=\"_blank\">AnyLogic 7</a> and <a href=\"https://www.oracle.com/java/index.html\" target=\"_blank\">JAVA</a>.</li>\n",
    "<li>Calibrate resource distribution inputs using  <a href=\"http://nbviewer.ipython.org/url/set.csaladen.es/resource_distribution.ipynb\" target=\"_blank\"><b>this</b></a> <a href=\"http://ipython.org/\" target=\"_blank\">Ipython</a> notebook.</li>\n",
    "<li>Import processed background data into SET 2.0 as table functions.</li>\n",
    "<li>Set up simulation envelope for sensitivity analysis by automating SET 2.0 and using <a href=\"http://set.csaladen.es/data/parameters/\" target=\"_blank\">these</a> <a href=\"https://en.wikipedia.org/wiki/Microsoft_Excel\" target=\"_blank\">Excel</a> files for input. </li>\n",
    "<li>Conduct automated sensitivity analysis with SET 2.0 (the online version does not support writing files, download the <a href=\"http://set.csaladen.es/models/set2.zip\" target=\"_blank\">source</a> and run it locally).</li>\n",
    "<li>Process <a href=\"http://set.csaladen.es/data/results/\" target=\"_blank\">results</a> generated by SET 2.0 into <a href=\"http://set.csaladen.es/plots/\" target=\"_blank\">plots</a> using <a href=\"http://nbviewer.ipython.org/url/set.csaladen.es/plotter.ipynb\" target=\"_blank\"><b>this</b></a> <a href=\"http://ipython.org/\" target=\"_blank\">Ipython</a> notebook.</li>\n",
    "<li>Construct project exploratory <a href=\"http://set.csaladen.es/\" target=\"_blank\">website</a> using <a href=\"http://set.csaladen.es/js/scripts.js\" target=\"_blank\"><b>this</b></a> <a href=\"http://d3js.org/\" target=\"_blank\">d3.js</a> script.</li>\n",
    "</ol>"
   ]
  },
  {
   "cell_type": "markdown",
   "metadata": {},
   "source": [
    "<br>\n",
    "<a href=\"http://www.csaladen.es\" target=\"_blank\">Dénes Csala</a>&nbsp;&nbsp;|&nbsp;&nbsp;2016"
   ]
  },
  {
   "cell_type": "code",
   "execution_count": 15,
   "metadata": {
    "collapsed": false
   },
   "outputs": [
    {
     "data": {
      "text/html": [
       "<style>\n",
       "html, body, p, h3, h2, h1, table, div, span, .container {font-family: \"Trebuchet MS\", \"Open Sans\", Segoe UI light, Verdana, Tahoma, Helvetica, sans-serif; background: #fff; color: #000 !important;}\n",
       "a {color:#360; text-decoration:underline;}\n",
       "a:hover {color:#380; text-decoration:underline;}\n",
       ".prompt, .output, .input_area, #menubar, nav, footer, .slideInDown, .slideOutUp {visibility:hidden !important;opacity:0 !important;}\n",
       "</style>"
      ],
      "text/plain": [
       "<IPython.core.display.HTML object>"
      ]
     },
     "execution_count": 15,
     "metadata": {},
     "output_type": "execute_result"
    }
   ],
   "source": [
    "from IPython.core.display import HTML  \n",
    "styles = open('css/theme.css','r').read()\n",
    "HTML(styles)"
   ]
  }
 ],
 "metadata": {
  "kernelspec": {
   "display_name": "Python 2",
   "language": "python",
   "name": "python2"
  },
  "language_info": {
   "codemirror_mode": {
    "name": "ipython",
    "version": 2
   },
   "file_extension": ".py",
   "mimetype": "text/x-python",
   "name": "python",
   "nbconvert_exporter": "python",
   "pygments_lexer": "ipython2",
   "version": "2.7.11"
  }
 },
 "nbformat": 4,
 "nbformat_minor": 0
}
